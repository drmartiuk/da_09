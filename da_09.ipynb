{
 "cells": [
  {
   "cell_type": "markdown",
   "metadata": {},
   "source": [
    "# Анализ гипотез для увеличения выручки интернет-магазина "
   ]
  },
  {
   "cell_type": "markdown",
   "metadata": {},
   "source": [
    "# Часть 1. Приоритизация гипотез.\n",
    "\n",
    "В файле /datasets/hypothesis.csv 9 гипотез по увеличению выручки интернет-магазина с указанными параметрами Reach, Impact, Confidence, Effort.\n",
    "\n",
    "Задача\n",
    "- Применить фреймворк ICE для приоритизации гипотез. Отсортировать их по убыванию приоритета.\n",
    "- Применить фреймворк RICE для приоритизации гипотез. Отсортировать их по убыванию приоритета.\n",
    "- Указать, как изменилась приоритизация гипотез при применении RICE вместо ICE. Объяснить, почему так произошло."
   ]
  },
  {
   "cell_type": "markdown",
   "metadata": {},
   "source": [
    "# Часть 2. Анализ A/B-теста\n",
    "\n",
    "Провели A/B-тест и получили результаты, которые описаны в файлах /datasets/orders.csv и /datasets/visitors.csv.\n",
    "\n",
    "Задача\n",
    "\n",
    "Проанализируйте A/B-тест:\n",
    "\n",
    "- Построить график кумулятивной выручки по группам. Сделать выводы и предположения.\n",
    "- Построить график кумулятивного среднего чека по группам. Сделать выводы и предположения.\n",
    "- Построить график относительного изменения кумулятивного среднего чека группы B к группе A. Сделать выводы и предположения.\n",
    "- Построить график кумулятивного среднего количества заказов на посетителя по группам. Сделатьвыводы и предположения.\n",
    "- Построить график относительного изменения кумулятивного среднего количества заказов на посетителя группы B к группе A. Сделать выводы и предположения.\n",
    "- Построить точечный график количества заказов по пользователям. Сделать выводы и предположения.\n",
    "- Посчитать 95-й и 99-й перцентили количества заказов на пользователя. Выбрать границу для определения аномальных пользователей.\n",
    "- Построить точечный график стоимостей заказов. Сделать выводы и предположения.\n",
    "- Посчитать 95-й и 99-й перцентили стоимости заказов. Выбрать границу для определения аномальных заказов.\n",
    "- Посчитать статистическую значимость различий в среднем количестве заказов на посетителя между группами по «сырым» данным. Сделать выводы и предположения.\n",
    "- Посчитать статистическую значимость различий в среднем чеке заказа между группами по «сырым» данным. Сделать выводы и предположения.\n",
    "- Посчитать статистическую значимость различий в среднем количестве заказов на посетителя между группами по «очищенным» данным. Сделать выводы и предположения.\n",
    "- Посчитать статистическую значимость различий в среднем чеке заказа между группами по «очищенным» данным. Сделать выводы и предположения.\n",
    "- Принять решение по результатам теста и объяснить его. Варианты решений: 1. Остановить тест, зафиксировать победу одной из групп. 2. Остановить тест, зафиксировать отсутствие различий между группами. 3. Продолжить тест."
   ]
  },
  {
   "cell_type": "markdown",
   "metadata": {},
   "source": [
    "# Предобработка данных"
   ]
  },
  {
   "cell_type": "code",
   "execution_count": 1,
   "metadata": {},
   "outputs": [],
   "source": [
    "import pandas as pd\n",
    "import scipy.stats as stats\n",
    "import datetime as dt\n",
    "import numpy as np\n",
    "from pandas.plotting import register_matplotlib_converters\n",
    "register_matplotlib_converters()\n",
    "from matplotlib import pyplot as plt"
   ]
  },
  {
   "cell_type": "code",
   "execution_count": 2,
   "metadata": {},
   "outputs": [
    {
     "data": {
      "text/html": [
       "<div>\n",
       "<style scoped>\n",
       "    .dataframe tbody tr th:only-of-type {\n",
       "        vertical-align: middle;\n",
       "    }\n",
       "\n",
       "    .dataframe tbody tr th {\n",
       "        vertical-align: top;\n",
       "    }\n",
       "\n",
       "    .dataframe thead th {\n",
       "        text-align: right;\n",
       "    }\n",
       "</style>\n",
       "<table border=\"1\" class=\"dataframe\">\n",
       "  <thead>\n",
       "    <tr style=\"text-align: right;\">\n",
       "      <th></th>\n",
       "      <th>Hypothesis</th>\n",
       "      <th>Reach</th>\n",
       "      <th>Impact</th>\n",
       "      <th>Confidence</th>\n",
       "      <th>Efforts</th>\n",
       "    </tr>\n",
       "  </thead>\n",
       "  <tbody>\n",
       "    <tr>\n",
       "      <th>0</th>\n",
       "      <td>Добавить два новых канала привлечения трафика,...</td>\n",
       "      <td>3</td>\n",
       "      <td>10</td>\n",
       "      <td>8</td>\n",
       "      <td>6</td>\n",
       "    </tr>\n",
       "    <tr>\n",
       "      <th>1</th>\n",
       "      <td>Запустить собственную службу доставки, что сок...</td>\n",
       "      <td>2</td>\n",
       "      <td>5</td>\n",
       "      <td>4</td>\n",
       "      <td>10</td>\n",
       "    </tr>\n",
       "    <tr>\n",
       "      <th>2</th>\n",
       "      <td>Добавить блоки рекомендаций товаров на сайт ин...</td>\n",
       "      <td>8</td>\n",
       "      <td>3</td>\n",
       "      <td>7</td>\n",
       "      <td>3</td>\n",
       "    </tr>\n",
       "    <tr>\n",
       "      <th>3</th>\n",
       "      <td>Изменить структура категорий, что увеличит кон...</td>\n",
       "      <td>8</td>\n",
       "      <td>3</td>\n",
       "      <td>3</td>\n",
       "      <td>8</td>\n",
       "    </tr>\n",
       "    <tr>\n",
       "      <th>4</th>\n",
       "      <td>Изменить цвет фона главной страницы, чтобы уве...</td>\n",
       "      <td>3</td>\n",
       "      <td>1</td>\n",
       "      <td>1</td>\n",
       "      <td>1</td>\n",
       "    </tr>\n",
       "    <tr>\n",
       "      <th>5</th>\n",
       "      <td>Добавить страницу отзывов клиентов о магазине,...</td>\n",
       "      <td>3</td>\n",
       "      <td>2</td>\n",
       "      <td>2</td>\n",
       "      <td>3</td>\n",
       "    </tr>\n",
       "    <tr>\n",
       "      <th>6</th>\n",
       "      <td>Показать на главной странице баннеры с актуаль...</td>\n",
       "      <td>5</td>\n",
       "      <td>3</td>\n",
       "      <td>8</td>\n",
       "      <td>3</td>\n",
       "    </tr>\n",
       "    <tr>\n",
       "      <th>7</th>\n",
       "      <td>Добавить форму подписки на все основные страни...</td>\n",
       "      <td>10</td>\n",
       "      <td>7</td>\n",
       "      <td>8</td>\n",
       "      <td>5</td>\n",
       "    </tr>\n",
       "    <tr>\n",
       "      <th>8</th>\n",
       "      <td>Запустить акцию, дающую скидку на товар в день...</td>\n",
       "      <td>1</td>\n",
       "      <td>9</td>\n",
       "      <td>9</td>\n",
       "      <td>5</td>\n",
       "    </tr>\n",
       "  </tbody>\n",
       "</table>\n",
       "</div>"
      ],
      "text/plain": [
       "                                          Hypothesis  Reach  Impact  \\\n",
       "0  Добавить два новых канала привлечения трафика,...      3      10   \n",
       "1  Запустить собственную службу доставки, что сок...      2       5   \n",
       "2  Добавить блоки рекомендаций товаров на сайт ин...      8       3   \n",
       "3  Изменить структура категорий, что увеличит кон...      8       3   \n",
       "4  Изменить цвет фона главной страницы, чтобы уве...      3       1   \n",
       "5  Добавить страницу отзывов клиентов о магазине,...      3       2   \n",
       "6  Показать на главной странице баннеры с актуаль...      5       3   \n",
       "7  Добавить форму подписки на все основные страни...     10       7   \n",
       "8  Запустить акцию, дающую скидку на товар в день...      1       9   \n",
       "\n",
       "   Confidence  Efforts  \n",
       "0           8        6  \n",
       "1           4       10  \n",
       "2           7        3  \n",
       "3           3        8  \n",
       "4           1        1  \n",
       "5           2        3  \n",
       "6           8        3  \n",
       "7           8        5  \n",
       "8           9        5  "
      ]
     },
     "metadata": {},
     "output_type": "display_data"
    },
    {
     "name": "stdout",
     "output_type": "stream",
     "text": [
      "<class 'pandas.core.frame.DataFrame'>\n",
      "RangeIndex: 9 entries, 0 to 8\n",
      "Data columns (total 5 columns):\n",
      " #   Column      Non-Null Count  Dtype \n",
      "---  ------      --------------  ----- \n",
      " 0   Hypothesis  9 non-null      object\n",
      " 1   Reach       9 non-null      int64 \n",
      " 2   Impact      9 non-null      int64 \n",
      " 3   Confidence  9 non-null      int64 \n",
      " 4   Efforts     9 non-null      int64 \n",
      "dtypes: int64(4), object(1)\n",
      "memory usage: 488.0+ bytes\n"
     ]
    },
    {
     "data": {
      "text/plain": [
       "None"
      ]
     },
     "metadata": {},
     "output_type": "display_data"
    },
    {
     "data": {
      "text/html": [
       "<div>\n",
       "<style scoped>\n",
       "    .dataframe tbody tr th:only-of-type {\n",
       "        vertical-align: middle;\n",
       "    }\n",
       "\n",
       "    .dataframe tbody tr th {\n",
       "        vertical-align: top;\n",
       "    }\n",
       "\n",
       "    .dataframe thead th {\n",
       "        text-align: right;\n",
       "    }\n",
       "</style>\n",
       "<table border=\"1\" class=\"dataframe\">\n",
       "  <thead>\n",
       "    <tr style=\"text-align: right;\">\n",
       "      <th></th>\n",
       "      <th>transactionId</th>\n",
       "      <th>visitorId</th>\n",
       "      <th>date</th>\n",
       "      <th>revenue</th>\n",
       "      <th>group</th>\n",
       "    </tr>\n",
       "  </thead>\n",
       "  <tbody>\n",
       "    <tr>\n",
       "      <th>0</th>\n",
       "      <td>3667963787</td>\n",
       "      <td>3312258926</td>\n",
       "      <td>2019-08-15</td>\n",
       "      <td>1650</td>\n",
       "      <td>B</td>\n",
       "    </tr>\n",
       "    <tr>\n",
       "      <th>1</th>\n",
       "      <td>2804400009</td>\n",
       "      <td>3642806036</td>\n",
       "      <td>2019-08-15</td>\n",
       "      <td>730</td>\n",
       "      <td>B</td>\n",
       "    </tr>\n",
       "    <tr>\n",
       "      <th>2</th>\n",
       "      <td>2961555356</td>\n",
       "      <td>4069496402</td>\n",
       "      <td>2019-08-15</td>\n",
       "      <td>400</td>\n",
       "      <td>A</td>\n",
       "    </tr>\n",
       "    <tr>\n",
       "      <th>3</th>\n",
       "      <td>3797467345</td>\n",
       "      <td>1196621759</td>\n",
       "      <td>2019-08-15</td>\n",
       "      <td>9759</td>\n",
       "      <td>B</td>\n",
       "    </tr>\n",
       "    <tr>\n",
       "      <th>4</th>\n",
       "      <td>2282983706</td>\n",
       "      <td>2322279887</td>\n",
       "      <td>2019-08-15</td>\n",
       "      <td>2308</td>\n",
       "      <td>B</td>\n",
       "    </tr>\n",
       "    <tr>\n",
       "      <th>5</th>\n",
       "      <td>182168103</td>\n",
       "      <td>935554773</td>\n",
       "      <td>2019-08-15</td>\n",
       "      <td>2210</td>\n",
       "      <td>B</td>\n",
       "    </tr>\n",
       "    <tr>\n",
       "      <th>6</th>\n",
       "      <td>398296753</td>\n",
       "      <td>2900797465</td>\n",
       "      <td>2019-08-15</td>\n",
       "      <td>1860</td>\n",
       "      <td>B</td>\n",
       "    </tr>\n",
       "    <tr>\n",
       "      <th>7</th>\n",
       "      <td>2626614568</td>\n",
       "      <td>78758296</td>\n",
       "      <td>2019-08-15</td>\n",
       "      <td>1044</td>\n",
       "      <td>A</td>\n",
       "    </tr>\n",
       "    <tr>\n",
       "      <th>8</th>\n",
       "      <td>1576988021</td>\n",
       "      <td>295230930</td>\n",
       "      <td>2019-08-15</td>\n",
       "      <td>13710</td>\n",
       "      <td>A</td>\n",
       "    </tr>\n",
       "    <tr>\n",
       "      <th>9</th>\n",
       "      <td>1506739906</td>\n",
       "      <td>1882260405</td>\n",
       "      <td>2019-08-15</td>\n",
       "      <td>1855</td>\n",
       "      <td>B</td>\n",
       "    </tr>\n",
       "  </tbody>\n",
       "</table>\n",
       "</div>"
      ],
      "text/plain": [
       "   transactionId   visitorId        date  revenue group\n",
       "0     3667963787  3312258926  2019-08-15     1650     B\n",
       "1     2804400009  3642806036  2019-08-15      730     B\n",
       "2     2961555356  4069496402  2019-08-15      400     A\n",
       "3     3797467345  1196621759  2019-08-15     9759     B\n",
       "4     2282983706  2322279887  2019-08-15     2308     B\n",
       "5      182168103   935554773  2019-08-15     2210     B\n",
       "6      398296753  2900797465  2019-08-15     1860     B\n",
       "7     2626614568    78758296  2019-08-15     1044     A\n",
       "8     1576988021   295230930  2019-08-15    13710     A\n",
       "9     1506739906  1882260405  2019-08-15     1855     B"
      ]
     },
     "metadata": {},
     "output_type": "display_data"
    },
    {
     "name": "stdout",
     "output_type": "stream",
     "text": [
      "<class 'pandas.core.frame.DataFrame'>\n",
      "RangeIndex: 1197 entries, 0 to 1196\n",
      "Data columns (total 5 columns):\n",
      " #   Column         Non-Null Count  Dtype \n",
      "---  ------         --------------  ----- \n",
      " 0   transactionId  1197 non-null   int64 \n",
      " 1   visitorId      1197 non-null   int64 \n",
      " 2   date           1197 non-null   object\n",
      " 3   revenue        1197 non-null   int64 \n",
      " 4   group          1197 non-null   object\n",
      "dtypes: int64(3), object(2)\n",
      "memory usage: 46.9+ KB\n"
     ]
    },
    {
     "data": {
      "text/plain": [
       "None"
      ]
     },
     "metadata": {},
     "output_type": "display_data"
    },
    {
     "data": {
      "text/html": [
       "<div>\n",
       "<style scoped>\n",
       "    .dataframe tbody tr th:only-of-type {\n",
       "        vertical-align: middle;\n",
       "    }\n",
       "\n",
       "    .dataframe tbody tr th {\n",
       "        vertical-align: top;\n",
       "    }\n",
       "\n",
       "    .dataframe thead th {\n",
       "        text-align: right;\n",
       "    }\n",
       "</style>\n",
       "<table border=\"1\" class=\"dataframe\">\n",
       "  <thead>\n",
       "    <tr style=\"text-align: right;\">\n",
       "      <th></th>\n",
       "      <th>date</th>\n",
       "      <th>group</th>\n",
       "      <th>visitors</th>\n",
       "    </tr>\n",
       "  </thead>\n",
       "  <tbody>\n",
       "    <tr>\n",
       "      <th>0</th>\n",
       "      <td>2019-08-01</td>\n",
       "      <td>A</td>\n",
       "      <td>719</td>\n",
       "    </tr>\n",
       "    <tr>\n",
       "      <th>1</th>\n",
       "      <td>2019-08-02</td>\n",
       "      <td>A</td>\n",
       "      <td>619</td>\n",
       "    </tr>\n",
       "    <tr>\n",
       "      <th>2</th>\n",
       "      <td>2019-08-03</td>\n",
       "      <td>A</td>\n",
       "      <td>507</td>\n",
       "    </tr>\n",
       "    <tr>\n",
       "      <th>3</th>\n",
       "      <td>2019-08-04</td>\n",
       "      <td>A</td>\n",
       "      <td>717</td>\n",
       "    </tr>\n",
       "    <tr>\n",
       "      <th>4</th>\n",
       "      <td>2019-08-05</td>\n",
       "      <td>A</td>\n",
       "      <td>756</td>\n",
       "    </tr>\n",
       "    <tr>\n",
       "      <th>5</th>\n",
       "      <td>2019-08-06</td>\n",
       "      <td>A</td>\n",
       "      <td>667</td>\n",
       "    </tr>\n",
       "    <tr>\n",
       "      <th>6</th>\n",
       "      <td>2019-08-07</td>\n",
       "      <td>A</td>\n",
       "      <td>644</td>\n",
       "    </tr>\n",
       "    <tr>\n",
       "      <th>7</th>\n",
       "      <td>2019-08-08</td>\n",
       "      <td>A</td>\n",
       "      <td>610</td>\n",
       "    </tr>\n",
       "    <tr>\n",
       "      <th>8</th>\n",
       "      <td>2019-08-09</td>\n",
       "      <td>A</td>\n",
       "      <td>617</td>\n",
       "    </tr>\n",
       "    <tr>\n",
       "      <th>9</th>\n",
       "      <td>2019-08-10</td>\n",
       "      <td>A</td>\n",
       "      <td>406</td>\n",
       "    </tr>\n",
       "  </tbody>\n",
       "</table>\n",
       "</div>"
      ],
      "text/plain": [
       "         date group  visitors\n",
       "0  2019-08-01     A       719\n",
       "1  2019-08-02     A       619\n",
       "2  2019-08-03     A       507\n",
       "3  2019-08-04     A       717\n",
       "4  2019-08-05     A       756\n",
       "5  2019-08-06     A       667\n",
       "6  2019-08-07     A       644\n",
       "7  2019-08-08     A       610\n",
       "8  2019-08-09     A       617\n",
       "9  2019-08-10     A       406"
      ]
     },
     "metadata": {},
     "output_type": "display_data"
    },
    {
     "name": "stdout",
     "output_type": "stream",
     "text": [
      "<class 'pandas.core.frame.DataFrame'>\n",
      "RangeIndex: 62 entries, 0 to 61\n",
      "Data columns (total 3 columns):\n",
      " #   Column    Non-Null Count  Dtype \n",
      "---  ------    --------------  ----- \n",
      " 0   date      62 non-null     object\n",
      " 1   group     62 non-null     object\n",
      " 2   visitors  62 non-null     int64 \n",
      "dtypes: int64(1), object(2)\n",
      "memory usage: 1.6+ KB\n"
     ]
    },
    {
     "data": {
      "text/plain": [
       "None"
      ]
     },
     "metadata": {},
     "output_type": "display_data"
    }
   ],
   "source": [
    "hypothesis=pd.read_csv('/datasets/hypothesis.csv')\n",
    "orders=pd.read_csv('/datasets/orders.csv')\n",
    "visitors=pd.read_csv('/datasets/visitors.csv')\n",
    "display(hypothesis.head(10))\n",
    "display(hypothesis.info())\n",
    "display(orders.head(10))\n",
    "display(orders.info())\n",
    "display(visitors.head(10))\n",
    "display(visitors.info())"
   ]
  },
  {
   "cell_type": "code",
   "execution_count": 3,
   "metadata": {},
   "outputs": [],
   "source": [
    "visitors['date'] = visitors['date'].astype('datetime64[D]')\n",
    "orders['date'] = orders['date'].astype('datetime64[D]')"
   ]
  },
  {
   "cell_type": "code",
   "execution_count": 4,
   "metadata": {},
   "outputs": [
    {
     "data": {
      "text/plain": [
       "'Количество дубликатов в датафреймах'"
      ]
     },
     "metadata": {},
     "output_type": "display_data"
    },
    {
     "data": {
      "text/plain": [
       "0"
      ]
     },
     "metadata": {},
     "output_type": "display_data"
    },
    {
     "data": {
      "text/plain": [
       "0"
      ]
     },
     "metadata": {},
     "output_type": "display_data"
    },
    {
     "data": {
      "text/plain": [
       "0"
      ]
     },
     "metadata": {},
     "output_type": "display_data"
    }
   ],
   "source": [
    "display('Количество дубликатов в датафреймах')\n",
    "display(hypothesis.duplicated().sum())\n",
    "display(orders.duplicated().sum())\n",
    "display(visitors.duplicated().sum())"
   ]
  },
  {
   "cell_type": "code",
   "execution_count": 5,
   "metadata": {},
   "outputs": [
    {
     "data": {
      "text/plain": [
       "'Количество пропусков в датафреймах'"
      ]
     },
     "metadata": {},
     "output_type": "display_data"
    },
    {
     "data": {
      "text/plain": [
       "Hypothesis    0\n",
       "Reach         0\n",
       "Impact        0\n",
       "Confidence    0\n",
       "Efforts       0\n",
       "dtype: int64"
      ]
     },
     "metadata": {},
     "output_type": "display_data"
    },
    {
     "data": {
      "text/plain": [
       "transactionId    0\n",
       "visitorId        0\n",
       "date             0\n",
       "revenue          0\n",
       "group            0\n",
       "dtype: int64"
      ]
     },
     "metadata": {},
     "output_type": "display_data"
    },
    {
     "data": {
      "text/plain": [
       "date        0\n",
       "group       0\n",
       "visitors    0\n",
       "dtype: int64"
      ]
     },
     "metadata": {},
     "output_type": "display_data"
    }
   ],
   "source": [
    "display('Количество пропусков в датафреймах')\n",
    "display(hypothesis.isna().sum())\n",
    "display(orders.isna().sum())\n",
    "display(visitors.isna().sum())"
   ]
  },
  {
   "cell_type": "markdown",
   "metadata": {},
   "source": [
    "# Вывод: \n",
    "В датасетах отсутствуют явные дубликаты и пропущенные значения. \n",
    "Формат столбцов с датами преобразован."
   ]
  },
  {
   "cell_type": "markdown",
   "metadata": {},
   "source": [
    "## Приоритизация гипотез"
   ]
  },
  {
   "cell_type": "code",
   "execution_count": 6,
   "metadata": {},
   "outputs": [],
   "source": [
    "hypothesis['ICE'] = ((hypothesis['Impact']*hypothesis['Confidence'])/hypothesis['Efforts']).round(1)\n",
    "hypothesis['RICE'] = (hypothesis['Reach']  *hypothesis['Impact'] * hypothesis['Confidence']) / hypothesis['Efforts']"
   ]
  },
  {
   "cell_type": "code",
   "execution_count": 7,
   "metadata": {},
   "outputs": [
    {
     "data": {
      "text/html": [
       "<div>\n",
       "<style scoped>\n",
       "    .dataframe tbody tr th:only-of-type {\n",
       "        vertical-align: middle;\n",
       "    }\n",
       "\n",
       "    .dataframe tbody tr th {\n",
       "        vertical-align: top;\n",
       "    }\n",
       "\n",
       "    .dataframe thead th {\n",
       "        text-align: right;\n",
       "    }\n",
       "</style>\n",
       "<table border=\"1\" class=\"dataframe\">\n",
       "  <thead>\n",
       "    <tr style=\"text-align: right;\">\n",
       "      <th></th>\n",
       "      <th>Hypothesis</th>\n",
       "      <th>Reach</th>\n",
       "      <th>Impact</th>\n",
       "      <th>Confidence</th>\n",
       "      <th>Efforts</th>\n",
       "      <th>ICE</th>\n",
       "      <th>RICE</th>\n",
       "    </tr>\n",
       "  </thead>\n",
       "  <tbody>\n",
       "    <tr>\n",
       "      <th>8</th>\n",
       "      <td>Запустить акцию, дающую скидку на товар в день...</td>\n",
       "      <td>1</td>\n",
       "      <td>9</td>\n",
       "      <td>9</td>\n",
       "      <td>5</td>\n",
       "      <td>16.2</td>\n",
       "      <td>16.2</td>\n",
       "    </tr>\n",
       "    <tr>\n",
       "      <th>0</th>\n",
       "      <td>Добавить два новых канала привлечения трафика,...</td>\n",
       "      <td>3</td>\n",
       "      <td>10</td>\n",
       "      <td>8</td>\n",
       "      <td>6</td>\n",
       "      <td>13.3</td>\n",
       "      <td>40.0</td>\n",
       "    </tr>\n",
       "    <tr>\n",
       "      <th>7</th>\n",
       "      <td>Добавить форму подписки на все основные страни...</td>\n",
       "      <td>10</td>\n",
       "      <td>7</td>\n",
       "      <td>8</td>\n",
       "      <td>5</td>\n",
       "      <td>11.2</td>\n",
       "      <td>112.0</td>\n",
       "    </tr>\n",
       "    <tr>\n",
       "      <th>6</th>\n",
       "      <td>Показать на главной странице баннеры с актуаль...</td>\n",
       "      <td>5</td>\n",
       "      <td>3</td>\n",
       "      <td>8</td>\n",
       "      <td>3</td>\n",
       "      <td>8.0</td>\n",
       "      <td>40.0</td>\n",
       "    </tr>\n",
       "    <tr>\n",
       "      <th>2</th>\n",
       "      <td>Добавить блоки рекомендаций товаров на сайт ин...</td>\n",
       "      <td>8</td>\n",
       "      <td>3</td>\n",
       "      <td>7</td>\n",
       "      <td>3</td>\n",
       "      <td>7.0</td>\n",
       "      <td>56.0</td>\n",
       "    </tr>\n",
       "    <tr>\n",
       "      <th>1</th>\n",
       "      <td>Запустить собственную службу доставки, что сок...</td>\n",
       "      <td>2</td>\n",
       "      <td>5</td>\n",
       "      <td>4</td>\n",
       "      <td>10</td>\n",
       "      <td>2.0</td>\n",
       "      <td>4.0</td>\n",
       "    </tr>\n",
       "    <tr>\n",
       "      <th>5</th>\n",
       "      <td>Добавить страницу отзывов клиентов о магазине,...</td>\n",
       "      <td>3</td>\n",
       "      <td>2</td>\n",
       "      <td>2</td>\n",
       "      <td>3</td>\n",
       "      <td>1.3</td>\n",
       "      <td>4.0</td>\n",
       "    </tr>\n",
       "    <tr>\n",
       "      <th>3</th>\n",
       "      <td>Изменить структура категорий, что увеличит кон...</td>\n",
       "      <td>8</td>\n",
       "      <td>3</td>\n",
       "      <td>3</td>\n",
       "      <td>8</td>\n",
       "      <td>1.1</td>\n",
       "      <td>9.0</td>\n",
       "    </tr>\n",
       "    <tr>\n",
       "      <th>4</th>\n",
       "      <td>Изменить цвет фона главной страницы, чтобы уве...</td>\n",
       "      <td>3</td>\n",
       "      <td>1</td>\n",
       "      <td>1</td>\n",
       "      <td>1</td>\n",
       "      <td>1.0</td>\n",
       "      <td>3.0</td>\n",
       "    </tr>\n",
       "  </tbody>\n",
       "</table>\n",
       "</div>"
      ],
      "text/plain": [
       "                                          Hypothesis  Reach  Impact  \\\n",
       "8  Запустить акцию, дающую скидку на товар в день...      1       9   \n",
       "0  Добавить два новых канала привлечения трафика,...      3      10   \n",
       "7  Добавить форму подписки на все основные страни...     10       7   \n",
       "6  Показать на главной странице баннеры с актуаль...      5       3   \n",
       "2  Добавить блоки рекомендаций товаров на сайт ин...      8       3   \n",
       "1  Запустить собственную службу доставки, что сок...      2       5   \n",
       "5  Добавить страницу отзывов клиентов о магазине,...      3       2   \n",
       "3  Изменить структура категорий, что увеличит кон...      8       3   \n",
       "4  Изменить цвет фона главной страницы, чтобы уве...      3       1   \n",
       "\n",
       "   Confidence  Efforts   ICE   RICE  \n",
       "8           9        5  16.2   16.2  \n",
       "0           8        6  13.3   40.0  \n",
       "7           8        5  11.2  112.0  \n",
       "6           8        3   8.0   40.0  \n",
       "2           7        3   7.0   56.0  \n",
       "1           4       10   2.0    4.0  \n",
       "5           2        3   1.3    4.0  \n",
       "3           3        8   1.1    9.0  \n",
       "4           1        1   1.0    3.0  "
      ]
     },
     "metadata": {},
     "output_type": "display_data"
    }
   ],
   "source": [
    "display(hypothesis.sort_values(by='ICE', ascending=False))"
   ]
  },
  {
   "cell_type": "code",
   "execution_count": 8,
   "metadata": {},
   "outputs": [
    {
     "data": {
      "text/html": [
       "<div>\n",
       "<style scoped>\n",
       "    .dataframe tbody tr th:only-of-type {\n",
       "        vertical-align: middle;\n",
       "    }\n",
       "\n",
       "    .dataframe tbody tr th {\n",
       "        vertical-align: top;\n",
       "    }\n",
       "\n",
       "    .dataframe thead th {\n",
       "        text-align: right;\n",
       "    }\n",
       "</style>\n",
       "<table border=\"1\" class=\"dataframe\">\n",
       "  <thead>\n",
       "    <tr style=\"text-align: right;\">\n",
       "      <th></th>\n",
       "      <th>Hypothesis</th>\n",
       "      <th>Reach</th>\n",
       "      <th>Impact</th>\n",
       "      <th>Confidence</th>\n",
       "      <th>Efforts</th>\n",
       "      <th>ICE</th>\n",
       "      <th>RICE</th>\n",
       "    </tr>\n",
       "  </thead>\n",
       "  <tbody>\n",
       "    <tr>\n",
       "      <th>7</th>\n",
       "      <td>Добавить форму подписки на все основные страни...</td>\n",
       "      <td>10</td>\n",
       "      <td>7</td>\n",
       "      <td>8</td>\n",
       "      <td>5</td>\n",
       "      <td>11.2</td>\n",
       "      <td>112.0</td>\n",
       "    </tr>\n",
       "    <tr>\n",
       "      <th>2</th>\n",
       "      <td>Добавить блоки рекомендаций товаров на сайт ин...</td>\n",
       "      <td>8</td>\n",
       "      <td>3</td>\n",
       "      <td>7</td>\n",
       "      <td>3</td>\n",
       "      <td>7.0</td>\n",
       "      <td>56.0</td>\n",
       "    </tr>\n",
       "    <tr>\n",
       "      <th>0</th>\n",
       "      <td>Добавить два новых канала привлечения трафика,...</td>\n",
       "      <td>3</td>\n",
       "      <td>10</td>\n",
       "      <td>8</td>\n",
       "      <td>6</td>\n",
       "      <td>13.3</td>\n",
       "      <td>40.0</td>\n",
       "    </tr>\n",
       "    <tr>\n",
       "      <th>6</th>\n",
       "      <td>Показать на главной странице баннеры с актуаль...</td>\n",
       "      <td>5</td>\n",
       "      <td>3</td>\n",
       "      <td>8</td>\n",
       "      <td>3</td>\n",
       "      <td>8.0</td>\n",
       "      <td>40.0</td>\n",
       "    </tr>\n",
       "    <tr>\n",
       "      <th>8</th>\n",
       "      <td>Запустить акцию, дающую скидку на товар в день...</td>\n",
       "      <td>1</td>\n",
       "      <td>9</td>\n",
       "      <td>9</td>\n",
       "      <td>5</td>\n",
       "      <td>16.2</td>\n",
       "      <td>16.2</td>\n",
       "    </tr>\n",
       "    <tr>\n",
       "      <th>3</th>\n",
       "      <td>Изменить структура категорий, что увеличит кон...</td>\n",
       "      <td>8</td>\n",
       "      <td>3</td>\n",
       "      <td>3</td>\n",
       "      <td>8</td>\n",
       "      <td>1.1</td>\n",
       "      <td>9.0</td>\n",
       "    </tr>\n",
       "    <tr>\n",
       "      <th>1</th>\n",
       "      <td>Запустить собственную службу доставки, что сок...</td>\n",
       "      <td>2</td>\n",
       "      <td>5</td>\n",
       "      <td>4</td>\n",
       "      <td>10</td>\n",
       "      <td>2.0</td>\n",
       "      <td>4.0</td>\n",
       "    </tr>\n",
       "    <tr>\n",
       "      <th>5</th>\n",
       "      <td>Добавить страницу отзывов клиентов о магазине,...</td>\n",
       "      <td>3</td>\n",
       "      <td>2</td>\n",
       "      <td>2</td>\n",
       "      <td>3</td>\n",
       "      <td>1.3</td>\n",
       "      <td>4.0</td>\n",
       "    </tr>\n",
       "    <tr>\n",
       "      <th>4</th>\n",
       "      <td>Изменить цвет фона главной страницы, чтобы уве...</td>\n",
       "      <td>3</td>\n",
       "      <td>1</td>\n",
       "      <td>1</td>\n",
       "      <td>1</td>\n",
       "      <td>1.0</td>\n",
       "      <td>3.0</td>\n",
       "    </tr>\n",
       "  </tbody>\n",
       "</table>\n",
       "</div>"
      ],
      "text/plain": [
       "                                          Hypothesis  Reach  Impact  \\\n",
       "7  Добавить форму подписки на все основные страни...     10       7   \n",
       "2  Добавить блоки рекомендаций товаров на сайт ин...      8       3   \n",
       "0  Добавить два новых канала привлечения трафика,...      3      10   \n",
       "6  Показать на главной странице баннеры с актуаль...      5       3   \n",
       "8  Запустить акцию, дающую скидку на товар в день...      1       9   \n",
       "3  Изменить структура категорий, что увеличит кон...      8       3   \n",
       "1  Запустить собственную службу доставки, что сок...      2       5   \n",
       "5  Добавить страницу отзывов клиентов о магазине,...      3       2   \n",
       "4  Изменить цвет фона главной страницы, чтобы уве...      3       1   \n",
       "\n",
       "   Confidence  Efforts   ICE   RICE  \n",
       "7           8        5  11.2  112.0  \n",
       "2           7        3   7.0   56.0  \n",
       "0           8        6  13.3   40.0  \n",
       "6           8        3   8.0   40.0  \n",
       "8           9        5  16.2   16.2  \n",
       "3           3        8   1.1    9.0  \n",
       "1           4       10   2.0    4.0  \n",
       "5           2        3   1.3    4.0  \n",
       "4           1        1   1.0    3.0  "
      ]
     },
     "metadata": {},
     "output_type": "display_data"
    }
   ],
   "source": [
    "display(hypothesis.sort_values(by='RICE', ascending=False))"
   ]
  },
  {
   "cell_type": "markdown",
   "metadata": {},
   "source": [
    "# Вывод:\n",
    "\n",
    "Применены фреймворки ICE и RICE для приоритизации гипотез. \n",
    "В фреймофрке RIСE учитывается параметр REACH, который существенно влияет на приоритезацию гипотез. В тройку лидеров по фреймфорку ICE вошли гипотезы № 8,0,7. А по фреймофку RICE уже 7,2,0. Для гипотезы 7 параметр Reach наибольший. Стоит тестировать гипотезы по параметру RICE №7,2,0"
   ]
  },
  {
   "cell_type": "markdown",
   "metadata": {},
   "source": [
    "## Анализ A/B-теста"
   ]
  },
  {
   "cell_type": "code",
   "execution_count": 9,
   "metadata": {},
   "outputs": [
    {
     "data": {
      "text/html": [
       "<div>\n",
       "<style scoped>\n",
       "    .dataframe tbody tr th:only-of-type {\n",
       "        vertical-align: middle;\n",
       "    }\n",
       "\n",
       "    .dataframe tbody tr th {\n",
       "        vertical-align: top;\n",
       "    }\n",
       "\n",
       "    .dataframe thead th {\n",
       "        text-align: right;\n",
       "    }\n",
       "</style>\n",
       "<table border=\"1\" class=\"dataframe\">\n",
       "  <thead>\n",
       "    <tr style=\"text-align: right;\">\n",
       "      <th></th>\n",
       "      <th>date</th>\n",
       "      <th>group</th>\n",
       "      <th>orders</th>\n",
       "      <th>buyers</th>\n",
       "      <th>revenue</th>\n",
       "      <th>visitors</th>\n",
       "    </tr>\n",
       "  </thead>\n",
       "  <tbody>\n",
       "    <tr>\n",
       "      <th>0</th>\n",
       "      <td>2019-08-01</td>\n",
       "      <td>A</td>\n",
       "      <td>24</td>\n",
       "      <td>20</td>\n",
       "      <td>148579</td>\n",
       "      <td>719</td>\n",
       "    </tr>\n",
       "    <tr>\n",
       "      <th>1</th>\n",
       "      <td>2019-08-01</td>\n",
       "      <td>B</td>\n",
       "      <td>21</td>\n",
       "      <td>20</td>\n",
       "      <td>101217</td>\n",
       "      <td>713</td>\n",
       "    </tr>\n",
       "    <tr>\n",
       "      <th>2</th>\n",
       "      <td>2019-08-02</td>\n",
       "      <td>A</td>\n",
       "      <td>44</td>\n",
       "      <td>38</td>\n",
       "      <td>242401</td>\n",
       "      <td>1338</td>\n",
       "    </tr>\n",
       "    <tr>\n",
       "      <th>3</th>\n",
       "      <td>2019-08-02</td>\n",
       "      <td>B</td>\n",
       "      <td>45</td>\n",
       "      <td>43</td>\n",
       "      <td>266748</td>\n",
       "      <td>1294</td>\n",
       "    </tr>\n",
       "    <tr>\n",
       "      <th>4</th>\n",
       "      <td>2019-08-03</td>\n",
       "      <td>A</td>\n",
       "      <td>68</td>\n",
       "      <td>62</td>\n",
       "      <td>354874</td>\n",
       "      <td>1845</td>\n",
       "    </tr>\n",
       "  </tbody>\n",
       "</table>\n",
       "</div>"
      ],
      "text/plain": [
       "        date group  orders  buyers  revenue  visitors\n",
       "0 2019-08-01     A      24      20   148579       719\n",
       "1 2019-08-01     B      21      20   101217       713\n",
       "2 2019-08-02     A      44      38   242401      1338\n",
       "3 2019-08-02     B      45      43   266748      1294\n",
       "4 2019-08-03     A      68      62   354874      1845"
      ]
     },
     "execution_count": 9,
     "metadata": {},
     "output_type": "execute_result"
    }
   ],
   "source": [
    "datesGroups = orders[['date','group']].drop_duplicates()\n",
    "ordersAggregated = datesGroups.apply(lambda x: orders[np.logical_and(orders['date'] <= x['date'], orders['group'] == x['group'])]. \\\n",
    "                                     agg({'date' : 'max', \n",
    "                                          'group' : 'max', \n",
    "                                          'transactionId' : pd.Series.nunique, \n",
    "                                          'visitorId' : pd.Series.nunique, \n",
    "                                          'revenue' : 'sum'}), axis=1).sort_values(by=['date','group'])\n",
    "\n",
    "visitorsAggregated = datesGroups.apply(lambda x: visitors[np.logical_and(visitors['date'] <= x['date'], visitors['group'] == x['group'])]. \\\n",
    "                                       agg({'date' : 'max', \n",
    "                                            'group' : 'max', \n",
    "                                            'visitors' : 'sum'}), axis=1).sort_values(by=['date','group'])\n",
    "\n",
    "cumulativeData = ordersAggregated.merge(visitorsAggregated, left_on=['date', 'group'], right_on=['date', 'group'])\n",
    "cumulativeData.columns = ['date', 'group', 'orders', 'buyers', 'revenue', 'visitors']\n",
    "\n",
    "cumulativeData.head(5)"
   ]
  },
  {
   "cell_type": "markdown",
   "metadata": {},
   "source": [
    "### График кумулятивной выручки по группам"
   ]
  },
  {
   "cell_type": "code",
   "execution_count": 10,
   "metadata": {},
   "outputs": [
    {
     "data": {
      "image/png": "[encoded data removed]",
      "text/plain": [
       "<Figure size 1080x360 with 1 Axes>"
      ]
     },
     "metadata": {
      "needs_background": "light"
     },
     "output_type": "display_data"
    }
   ],
   "source": [
    "cumulativeRevenueA = cumulativeData[cumulativeData['group']=='A'][['date','revenue', 'orders']]\n",
    "cumulativeRevenueB = cumulativeData[cumulativeData['group']=='B'][['date','revenue', 'orders']]\n",
    "plt.figure(figsize=(15,5))\n",
    "plt.plot(cumulativeRevenueA['date'], cumulativeRevenueA['revenue'], label='Кум.выручка группы A')\n",
    "plt.plot(cumulativeRevenueB['date'], cumulativeRevenueB['revenue'], label='Кум.выручка группы B')\n",
    "plt.grid()\n",
    "plt.xlabel('Дата')\n",
    "plt.ylabel('Выручка')\n",
    "plt.title('График кумулятивной выручки по группам')\n",
    "plt.legend() ;"
   ]
  },
  {
   "cell_type": "markdown",
   "metadata": {},
   "source": [
    "Вывод: Выручки до 17 августа в обоих группах возрастают одинаково (в группе В немного выше выручка), с 18 августа наблюдается резкий вырост выручки в группе В. Наиболее вероятно, что были крупные заказы в эти даты. "
   ]
  },
  {
   "cell_type": "markdown",
   "metadata": {},
   "source": [
    "### График кумулятивного среднего чека по группам"
   ]
  },
  {
   "cell_type": "code",
   "execution_count": 11,
   "metadata": {},
   "outputs": [
    {
     "data": {
      "image/png": "[encoded data removed]",
      "text/plain": [
       "<Figure size 1080x360 with 1 Axes>"
      ]
     },
     "metadata": {
      "needs_background": "light"
     },
     "output_type": "display_data"
    }
   ],
   "source": [
    "plt.figure(figsize=(15,5))\n",
    "plt.grid()\n",
    "plt.plot(cumulativeRevenueA['date'], cumulativeRevenueA['revenue']/cumulativeRevenueA['orders'], label='средний кумулятивный чек группы A')\n",
    "plt.plot(cumulativeRevenueB['date'], cumulativeRevenueB['revenue']/cumulativeRevenueB['orders'], label='средний кумулятивный чек группы B')\n",
    "plt.legend() \n",
    "plt.title('График кумулятивного среднего чека по группам')\n",
    "plt.xlabel('Дата')\n",
    "plt.ylabel('Рублей')\n",
    "plt.show()"
   ]
  },
  {
   "cell_type": "markdown",
   "metadata": {},
   "source": [
    "Вывод: Средний чек для группы А возрастает до 13 августа, в то время как с 9 по 13 августа для группы А стабильно падает. До 18 августа для группы В средний чек возрастает. "
   ]
  },
  {
   "cell_type": "markdown",
   "metadata": {},
   "source": [
    "### График относительного изменения кумулятивного среднего чека группы B к группе A"
   ]
  },
  {
   "cell_type": "code",
   "execution_count": 260,
   "metadata": {},
   "outputs": [
    {
     "data": {
      "image/png": "[encoded data removed]",
      "text/plain": [
       "<Figure size 1080x360 with 1 Axes>"
      ]
     },
     "metadata": {
      "needs_background": "light"
     },
     "output_type": "display_data"
    }
   ],
   "source": [
    "mergedCumulativeRevenue = cumulativeRevenueA.merge(cumulativeRevenueB, left_on='date', right_on='date', how='left', suffixes=['A', 'B'])\n",
    "plt.figure(figsize=(15,5))\n",
    "plt.grid()\n",
    "plt.plot(mergedCumulativeRevenue['date'], (mergedCumulativeRevenue['revenueB']/mergedCumulativeRevenue['ordersB'])/ \\\n",
    "         (mergedCumulativeRevenue['revenueA']/mergedCumulativeRevenue['ordersA'])-1)\n",
    "plt.title('График относительного изменения кумулятивного среднего чека группы B к группе A')\n",
    "plt.xlabel('Дата')\n",
    "plt.ylabel('Относительное изменение кумулятивного среднего чека гр.B к гр.A')\n",
    "plt.axhline(y=0, color='black', linestyle='--')\n",
    "plt.show()"
   ]
  },
  {
   "cell_type": "markdown",
   "metadata": {},
   "source": [
    "Вывод: кумулятивный средний чек возрастает до 7 августа, далее наблюдается падение до 13 августа, рост до 18 августа, с дальнейшим снижением до конца месяца"
   ]
  },
  {
   "cell_type": "markdown",
   "metadata": {},
   "source": [
    "###   График кумулятивного среднего количества заказов на посетителя по группам"
   ]
  },
  {
   "cell_type": "code",
   "execution_count": 264,
   "metadata": {},
   "outputs": [
    {
     "data": {
      "image/png": "[encoded data removed]",
      "text/plain": [
       "<Figure size 1080x360 with 1 Axes>"
      ]
     },
     "metadata": {
      "needs_background": "light"
     },
     "output_type": "display_data"
    }
   ],
   "source": [
    "cumulativeData['conversion'] = cumulativeData['orders']/cumulativeData['visitors']\n",
    "\n",
    "cumulativeDataA = cumulativeData[cumulativeData['group']=='A']\n",
    "cumulativeDataB = cumulativeData[cumulativeData['group']=='B']\n",
    "\n",
    "plt.figure(figsize=(15,5))\n",
    "plt.grid()\n",
    "plt.plot(cumulativeDataA['date'], cumulativeDataA['conversion'], label='кумулятивного среднего количества заказов на посетителя по группе A')\n",
    "plt.plot(cumulativeDataB['date'], cumulativeDataB['conversion'], label='кумулятивного среднего количества заказов на посетителя по группе B')\n",
    "plt.title('График кумулятивного среднего количества заказов на посетителя по группам')\n",
    "plt.legend()\n",
    "plt.ylabel('Кумулятивное среднее количесто заказов')\n",
    "plt.xlabel('Дата')\n",
    "plt.show()"
   ]
  },
  {
   "cell_type": "markdown",
   "metadata": {},
   "source": [
    "Вывод: кумулятивное среднее количество заказов на посетителя до 4 августа у группы А выше, далее наблюдается возрастания кумулятивного среднего количества заказов на посетителя у группы В с дальнейшийм преобладанием над группой А."
   ]
  },
  {
   "cell_type": "markdown",
   "metadata": {},
   "source": [
    "### График относительного изменения кумулятивного среднего количества заказов на посетителя группы B к группе A"
   ]
  },
  {
   "cell_type": "code",
   "execution_count": 14,
   "metadata": {},
   "outputs": [
    {
     "data": {
      "image/png": "[encoded data removed]",
      "text/plain": [
       "<Figure size 1080x360 with 1 Axes>"
      ]
     },
     "metadata": {
      "needs_background": "light"
     },
     "output_type": "display_data"
    }
   ],
   "source": [
    "mergedCumulativeConversions = cumulativeDataA[['date','conversion']].merge(cumulativeDataB[['date','conversion']], \\\n",
    "                                                    left_on='date', right_on='date', how='left', suffixes=['A', 'B'])\n",
    "plt.figure(figsize=(15,5))\n",
    "plt.grid()\n",
    "plt.plot(mergedCumulativeConversions['date'], mergedCumulativeConversions['conversionB']/mergedCumulativeConversions['conversionA']-1, label=\"Относительный прирост конверсии группы B относительно группы A\")\n",
    "plt.xlabel('Дата')\n",
    "plt.ylabel('Кумулятивное среднее количество заказов')\n",
    "plt.title('График относительного изменения кумулятивного среднего количества заказов на посетителя группы B к группе A¶')\n",
    "plt.axhline(y=0, color='black', linestyle='--')\n",
    "plt.axhline(y=0.15, color='grey', linestyle='--')\n",
    "plt.show()"
   ]
  },
  {
   "cell_type": "markdown",
   "metadata": {},
   "source": [
    "Вывод: Кумулятивное среднее количество заказов на посетителя в группе В выше кумулятивного среднего количества заказов на посетителя в группе А после 6 августа "
   ]
  },
  {
   "cell_type": "markdown",
   "metadata": {},
   "source": [
    "### Точечный график количества заказов по пользователям"
   ]
  },
  {
   "cell_type": "code",
   "execution_count": 15,
   "metadata": {},
   "outputs": [
    {
     "data": {
      "image/png": "[encoded data removed]",
      "text/plain": [
       "<Figure size 1080x360 with 1 Axes>"
      ]
     },
     "metadata": {
      "needs_background": "light"
     },
     "output_type": "display_data"
    }
   ],
   "source": [
    "ordersByUsers = orders.drop(['group', 'revenue', 'date'], axis=1).groupby('visitorId', as_index=False). \\\n",
    "                                                                        agg({'transactionId' : pd.Series.nunique})\n",
    "\n",
    "ordersByUsers.columns = ['user_id','orders']\n",
    "\n",
    "ordersByUsers.sort_values(by='orders',ascending=False).head(10)\n",
    "\n",
    "x_values = pd.Series(range(0,len(ordersByUsers)))\n",
    "\n",
    "plt.figure(figsize=(15,5))\n",
    "plt.grid()\n",
    "plt.xlabel('Количество пользователей')\n",
    "plt.ylabel('Количество заказов')\n",
    "plt.title('Точечный график количества заказов по пользователям')\n",
    "plt.scatter(x_values, ordersByUsers['orders'], alpha=0.5) ;"
   ]
  },
  {
   "cell_type": "markdown",
   "metadata": {},
   "source": [
    "Вывод: Большая часть пользователей совершает 1-2 заказа"
   ]
  },
  {
   "cell_type": "markdown",
   "metadata": {},
   "source": [
    "### Расчет 95 и 99 перцентилей количества заказов на пользователя"
   ]
  },
  {
   "cell_type": "code",
   "execution_count": 16,
   "metadata": {},
   "outputs": [
    {
     "name": "stdout",
     "output_type": "stream",
     "text": [
      "Рассчитаем 95 и 99 перцентили по заказам :  [2. 4.]\n"
     ]
    }
   ],
   "source": [
    "print('Рассчитаем 95 и 99 перцентили по заказам : ', np.percentile(ordersByUsers['orders'], [95, 99])) "
   ]
  },
  {
   "cell_type": "markdown",
   "metadata": {},
   "source": [
    "Вывод: больше 2 заказов совершают 5 процентов пользователей, а больше 4 - 1 процент"
   ]
  },
  {
   "cell_type": "markdown",
   "metadata": {},
   "source": [
    "### Точечный график стоимостей заказов"
   ]
  },
  {
   "cell_type": "code",
   "execution_count": 17,
   "metadata": {},
   "outputs": [
    {
     "data": {
      "text/plain": [
       "<matplotlib.collections.PathCollection at 0x7fee35817880>"
      ]
     },
     "execution_count": 17,
     "metadata": {},
     "output_type": "execute_result"
    },
    {
     "data": {
      "image/png": "[encoded data removed]",
      "text/plain": [
       "<Figure size 1080x360 with 1 Axes>"
      ]
     },
     "metadata": {
      "needs_background": "light"
     },
     "output_type": "display_data"
    }
   ],
   "source": [
    "x_values = pd.Series(range(0,len(orders['revenue'])))\n",
    "plt.figure(figsize=(15,5))\n",
    "plt.grid()\n",
    "plt.title('Точечный график стоимостей заказов')\n",
    "plt.xlabel('Количество пользователей')\n",
    "plt.ylabel('Стоимость заказа')\n",
    "plt.scatter(x_values, orders['revenue'], alpha=0.5)\n"
   ]
  },
  {
   "cell_type": "markdown",
   "metadata": {},
   "source": [
    "За исключение единичных заказов на 1,2 млн. и 200 тыс., пользователи не тратят больше 60 тыс. на заказ"
   ]
  },
  {
   "cell_type": "markdown",
   "metadata": {},
   "source": [
    "### Расчет 95 и 99 перцентилей стоимости заказов"
   ]
  },
  {
   "cell_type": "code",
   "execution_count": 18,
   "metadata": {},
   "outputs": [
    {
     "name": "stdout",
     "output_type": "stream",
     "text": [
      "Рассчитаем 95 и 99 перцентили по выручке заказов :  [28000.  58233.2]\n"
     ]
    }
   ],
   "source": [
    "print('Рассчитаем 95 и 99 перцентили по выручке заказов : ', np.percentile(orders['revenue'], [95, 99])) "
   ]
  },
  {
   "cell_type": "markdown",
   "metadata": {},
   "source": [
    "Вывод: большая часть пользователей (99 процентов) тратит не больше 58233 на заказ."
   ]
  },
  {
   "cell_type": "markdown",
   "metadata": {},
   "source": [
    "### Статистическая значимость различий в среднем количестве заказов на посетителя между группами по «сырым» данным"
   ]
  },
  {
   "cell_type": "markdown",
   "metadata": {},
   "source": [
    "Нулевая гипотеза: Среднее количество заказов на посетителя по \"сырым\" данным между группами не отличается \n",
    "\n",
    "Альтернативная гипотеза: Среднее количество заказов на посетителя по \"сырым\" данным между группами отличается \n",
    "\n",
    "Проводим U-тест Манна-Уитни, т.к. это статистический критерий, используемый для оценки различий между двумя независимыми выборками по уровню какого-либо признака, измеренного количественно."
   ]
  },
  {
   "cell_type": "code",
   "execution_count": 19,
   "metadata": {},
   "outputs": [
    {
     "name": "stdout",
     "output_type": "stream",
     "text": [
      "alpha = 0.05\n",
      "p-value = 0.017\n",
      "Относительный показатель 'B' и 'A' = 0.138\n",
      "Отвергаем нулевую гипотезу\n"
     ]
    }
   ],
   "source": [
    "visitorsADaily = visitors[visitors['group']=='A'][['date', 'visitors']]\n",
    "visitorsADaily.columns = ['date', 'visitorsPerDateA']\n",
    "\n",
    "visitorsACummulative = visitorsADaily.apply(lambda x: visitorsADaily[visitorsADaily['date'] <= x['date']]. \\\n",
    "                                            agg({'date' : 'max', 'visitorsPerDateA' : 'sum'}), axis=1)\n",
    "visitorsACummulative.columns = ['date', 'visitorsCummulativeA']\n",
    "\n",
    "visitorsBDaily = visitors[visitors['group']=='B'][['date', 'visitors']]\n",
    "visitorsBDaily.columns = ['date', 'visitorsPerDateB']\n",
    "\n",
    "visitorsBCummulative = visitorsBDaily.apply(lambda x: visitorsBDaily[visitorsBDaily['date'] <= x['date']]. \\\n",
    "                                            agg({'date' : 'max', 'visitorsPerDateB' : 'sum'}), axis=1)\n",
    "visitorsBCummulative.columns = ['date', 'visitorsCummulativeB']\n",
    "\n",
    "\n",
    "ordersADaily = orders[orders['group']=='A'][['date', 'transactionId', 'visitorId', 'revenue']]\\\n",
    "    .groupby('date', as_index=False)\\\n",
    "    .agg({'transactionId' : pd.Series.nunique, 'revenue' : 'sum'})\n",
    "ordersADaily.columns = ['date', 'ordersPerDateA', 'revenuePerDateA']\n",
    "\n",
    "ordersACummulative = ordersADaily.apply(\n",
    "    lambda x: \\\n",
    "        ordersADaily[ordersADaily['date'] <= x['date']]\\\n",
    "            .agg({\n",
    "                'date' : 'max',\n",
    "                'ordersPerDateA' : 'sum',\n",
    "                'revenuePerDateA' : 'sum'}), axis=1).sort_values(by=['date'])\n",
    "ordersACummulative.columns = ['date', 'ordersCummulativeA', 'revenueCummulativeA']\n",
    "\n",
    "ordersBDaily = orders[orders['group']=='B'][['date', 'transactionId', 'visitorId', 'revenue']]\\\n",
    "    .groupby('date', as_index=False)\\\n",
    "    .agg({'transactionId' : pd.Series.nunique, 'revenue' : 'sum'})\n",
    "ordersBDaily.columns = ['date', 'ordersPerDateB', 'revenuePerDateB']\n",
    "\n",
    "ordersBCummulative = ordersBDaily.apply(\n",
    "    lambda x: \\\n",
    "        ordersBDaily[ordersBDaily['date'] <= x['date']]\\\n",
    "            .agg({\n",
    "                'date' : 'max',\n",
    "                'ordersPerDateB' : 'sum',\n",
    "                'revenuePerDateB' : 'sum'}), axis=1).sort_values(by=['date'])\n",
    "ordersBCummulative.columns = ['date', 'ordersCummulativeB', 'revenueCummulativeB']\n",
    "\n",
    "\n",
    "\n",
    "data = ordersADaily.merge(ordersBDaily, left_on='date', right_on='date', how='left')\\\n",
    "    .merge(ordersACummulative, left_on='date', right_on='date', how='left')\\\n",
    "    .merge(ordersBCummulative, left_on='date', right_on='date', how='left')\\\n",
    "    .merge(visitorsADaily, left_on='date', right_on='date', how='left')\\\n",
    "    .merge(visitorsBDaily, left_on='date', right_on='date', how='left')\\\n",
    "    .merge(visitorsACummulative, left_on='date', right_on='date', how='left')\\\n",
    "    .merge(visitorsBCummulative, left_on='date', right_on='date', how='left')\n",
    "\n",
    "\n",
    "\n",
    "\n",
    "ordersByUsersA = orders[orders['group']=='A'].groupby('visitorId', as_index=False).agg({'transactionId' : pd.Series.nunique})\n",
    "ordersByUsersA.columns = ['userId', 'orders']\n",
    "\n",
    "ordersByUsersB = orders[orders['group']=='B'].groupby('visitorId', as_index=False).agg({'transactionId' : pd.Series.nunique})\n",
    "ordersByUsersB.columns = ['userId', 'orders']\n",
    "\n",
    "sampleA = pd.concat([ordersByUsersA['orders'],pd.Series(0, index=np.arange(data['visitorsPerDateA'].sum() - len(ordersByUsersA['orders'])), name='orders')],axis=0)\n",
    "\n",
    "sampleB = pd.concat([ordersByUsersB['orders'],pd.Series(0, index=np.arange(data['visitorsPerDateB'].sum() - len(ordersByUsersB['orders'])), name='orders')],axis=0)\n",
    "alpha=0.05\n",
    "print(\"alpha = {0:.2f}\".format(alpha)) \n",
    "pvalue=stats.mannwhitneyu(sampleA, sampleB, alternative = 'two-sided')[1]\n",
    "print(\"p-value = {0:.3f}\".format(pvalue))\n",
    "print(\"Относительный показатель 'B' и 'A' = {0:.3f}\".format(sampleB.mean()/sampleA.mean()-1)) \n",
    "if pvalue < alpha:\n",
    "    print('Отвергаем нулевую гипотезу')\n",
    "else:\n",
    "    print('Нет оснований отвергнуть нулевую гипотезу')"
   ]
  },
  {
   "cell_type": "markdown",
   "metadata": {},
   "source": [
    "Вывод: Отвергаем нулевую гипотезу\n",
    ". По \"сырым данным\" разница в количестве заказов между группами есть"
   ]
  },
  {
   "cell_type": "markdown",
   "metadata": {},
   "source": [
    "### Статистическая значимость различий в среднем чеке заказа между группами по «сырым» данным"
   ]
  },
  {
   "cell_type": "markdown",
   "metadata": {},
   "source": [
    "Нулевая гипотеза: Отсутствует различие в среднем чеке заказа между группами по «сырым» данным\n",
    "\n",
    "Альтернативная гипотеза: Существует различие в среднем чеке заказа между группами по «сырым» данным\n",
    "\n",
    "Проводим U-тест Манна-Уитни, т.к. это статистический критерий, используемый для оценки различий между двумя независимыми выборками по уровню какого-либо признака, измеренного количественно."
   ]
  },
  {
   "cell_type": "code",
   "execution_count": 20,
   "metadata": {},
   "outputs": [
    {
     "name": "stdout",
     "output_type": "stream",
     "text": [
      "alpha = 0.05\n",
      "p-value = 0.729\n",
      "Относительный показатель 'B' и 'A' = 0.259\n",
      "Нет оснований отвергнуть нулевую гипотезу\n"
     ]
    }
   ],
   "source": [
    "print(\"alpha = {0:.2f}\".format(alpha)) \n",
    "pvalue=stats.mannwhitneyu(orders[orders['group']=='A']['revenue'], orders[orders['group']=='B']['revenue'], alternative = 'two-sided')[1]\n",
    "print(\"p-value = {0:.3f}\".format(pvalue))\n",
    "print(\"Относительный показатель 'B' и 'A' = {0:.3f}\".format(orders[orders['group']=='B']['revenue'].mean()/orders[orders['group']=='A']['revenue'].mean()-1))                                                                            \n",
    "if pvalue < alpha:\n",
    "    print('Отвергаем нулевую гипотезу')\n",
    "else:\n",
    "    print('Нет оснований отвергнуть нулевую гипотезу')"
   ]
  },
  {
   "cell_type": "markdown",
   "metadata": {},
   "source": [
    "Вывод: Нет оснований отвергнуть нулевую гипотезу. По \"сырым данным\" разница в среднем чеке между группами отсутствует"
   ]
  },
  {
   "cell_type": "markdown",
   "metadata": {},
   "source": [
    "### Cтатистическая значимость различий в среднем количестве заказов на посетителя между группами по «очищенным» данным"
   ]
  },
  {
   "cell_type": "markdown",
   "metadata": {},
   "source": [
    "Нулевая гипотеза: Отсутствует различие в среднем количестве заказов на посетителя между группами по «очищенным» данным\n",
    "\n",
    "Альтернативная гипотеза:  Присутствует различие в среднем количестве заказов на посетителя между группами по «очищенным» данным\n",
    "\n",
    "Проводим U-тест Манна-Уитни, т.к. это статистический критерий, используемый для оценки различий между двумя независимыми выборками по уровню какого-либо признака, измеренного количественно."
   ]
  },
  {
   "cell_type": "code",
   "execution_count": 256,
   "metadata": {},
   "outputs": [
    {
     "name": "stdout",
     "output_type": "stream",
     "text": [
      "alpha = 0.05\n",
      "p-value = 0.010\n",
      "Относительный показатель 'B' и 'A' = 0.174\n",
      "Отвергаем нулевую гипотезу\n"
     ]
    }
   ],
   "source": [
    "usersWithManyOrders = pd.concat([ordersByUsersA[ordersByUsersA['orders'] > np.percentile(ordersByUsers['orders'], 95)]['userId'], ordersByUsersB[ordersByUsersB['orders'] > np.percentile(ordersByUsers['orders'], 95)]['userId']], axis = 0)\n",
    "usersWithExpensiveOrders = orders[orders['revenue'] > np.percentile(orders['revenue'], 99)]['visitorId']\n",
    "abnormalUsers = pd.concat([usersWithManyOrders, usersWithExpensiveOrders], axis = 0).drop_duplicates().sort_values()\n",
    "\n",
    "\n",
    "\n",
    "sampleAFiltered = pd.concat([ordersByUsersA[np.logical_not(ordersByUsersA['userId'].isin(abnormalUsers))]['orders'], \\\n",
    "                             pd.Series(0, index=np.arange(data['visitorsPerDateA'].sum() - len(ordersByUsersA['orders'])), \\\n",
    "                                       name='orders')],axis=0)\n",
    "\n",
    "sampleBFiltered = pd.concat([ordersByUsersB[np.logical_not(ordersByUsersB['userId'].isin(abnormalUsers))]['orders'], \\\n",
    "                             pd.Series(0, index=np.arange(data['visitorsPerDateB'].sum() - len(ordersByUsersB['orders'])), \\\n",
    "                                       name='orders')],axis=0) \n",
    "\n",
    "\n",
    "print(\"alpha = {0:.2f}\".format(alpha)) \n",
    "pvalue=stats.mannwhitneyu(sampleAFiltered, sampleBFiltered, alternative = 'two-sided')[1]\n",
    "print(\"p-value = {0:.3f}\".format(pvalue))\n",
    "print(\"Относительный показатель 'B' и 'A' = {0:.3f}\".format(sampleBFiltered.mean()/sampleAFiltered.mean()-1)) \n",
    "if pvalue < alpha:\n",
    "    print('Отвергаем нулевую гипотезу')\n",
    "else:\n",
    "    print('Нет оснований отвергнуть нулевую гипотезу')"
   ]
  },
  {
   "cell_type": "markdown",
   "metadata": {},
   "source": [
    "Вывод: Отвергаем нулевую гипотезу. По \"очищенным\" данным разница между группами по среднему количеству заказов значима"
   ]
  },
  {
   "cell_type": "markdown",
   "metadata": {},
   "source": [
    "### Статистическая значимость различий в среднем чеке заказа между группами по «очищенным» данным"
   ]
  },
  {
   "cell_type": "markdown",
   "metadata": {},
   "source": [
    "Нулевая гипотеза: По \"очищенным\" данным разница между группами по среднему чеку отсутствует\n",
    "\n",
    "Альтернативная гипотеза: По \"очищенным\" данным разница между группами по среднему чеку присутствует\n",
    "\n",
    "Проводим U-тест Манна-Уитни, т.к. это статистический критерий, используемый для оценки различий между двумя независимыми выборками по уровню какого-либо признака, измеренного количественно."
   ]
  },
  {
   "cell_type": "code",
   "execution_count": 22,
   "metadata": {},
   "outputs": [
    {
     "name": "stdout",
     "output_type": "stream",
     "text": [
      "alpha = 0.05\n",
      "p-value = 0.798\n",
      "Относительный показатель 'B' и 'A' = -0.020\n",
      "Нет оснований отвергнуть нулевую гипотезу\n"
     ]
    }
   ],
   "source": [
    "print(\"alpha = {0:.2f}\".format(alpha)) \n",
    "pvalue=stats.mannwhitneyu(\n",
    "    orders[np.logical_and(\n",
    "        orders['group']=='A',\n",
    "        np.logical_not(orders['visitorId'].isin(abnormalUsers)))]['revenue'],\n",
    "    orders[np.logical_and(\n",
    "        orders['group']=='B',\n",
    "        np.logical_not(orders['visitorId'].isin(abnormalUsers)))]['revenue'], alternative = 'two-sided')[1]\n",
    "print(\"p-value = {0:.3f}\".format(pvalue))\n",
    "print(\"Относительный показатель 'B' и 'A' = {0:.3f}\".format(\n",
    "    orders[np.logical_and(orders['group']=='B',np.logical_not(orders['visitorId'].isin(abnormalUsers)))]['revenue'].mean()/\n",
    "    orders[np.logical_and(\n",
    "        orders['group']=='A',\n",
    "        np.logical_not(orders['visitorId'].isin(abnormalUsers)))]['revenue'].mean() - 1)) \n",
    "if pvalue < alpha:\n",
    "    print('Отвергаем нулевую гипотезу')\n",
    "else:\n",
    "    print('Нет оснований отвергнуть нулевую гипотезу')"
   ]
  },
  {
   "cell_type": "markdown",
   "metadata": {},
   "source": [
    "Вывод: Нет оснований отвергнуть нулевую гипотезу. По \"очищенным\" данным разница между группами по среднему чеку отсутствует"
   ]
  },
  {
   "cell_type": "markdown",
   "metadata": {},
   "source": [
    "### Решение по результатам теста"
   ]
  },
  {
   "cell_type": "markdown",
   "metadata": {},
   "source": [
    "Кумулятивные данные выше для группы В (даже после исключения аномальных заказов. По \"очищенным\" данным разница между группами по среднему количеству заказов значима, благодаря чему можно сделать вывод об остановке А/В теста."
   ]
  }
 ],
 "metadata": {
  "ExecuteTimeLog": [
   {
    "duration": 666,
    "start_time": "2023-10-10T04:08:25.086Z"
   },
   {
    "duration": 90,
    "start_time": "2023-10-10T04:08:53.774Z"
   },
   {
    "duration": 121,
    "start_time": "2023-10-10T04:09:39.941Z"
   },
   {
    "duration": 5,
    "start_time": "2023-10-10T04:11:52.383Z"
   },
   {
    "duration": 7,
    "start_time": "2023-10-10T04:12:20.333Z"
   },
   {
    "duration": 15,
    "start_time": "2023-10-10T04:13:59.074Z"
   },
   {
    "duration": 69,
    "start_time": "2023-10-10T04:14:23.161Z"
   },
   {
    "duration": 11,
    "start_time": "2023-10-10T04:14:34.721Z"
   },
   {
    "duration": 5,
    "start_time": "2023-10-10T04:16:36.343Z"
   },
   {
    "duration": 13,
    "start_time": "2023-10-10T04:17:53.622Z"
   },
   {
    "duration": 13,
    "start_time": "2023-10-10T04:34:45.850Z"
   },
   {
    "duration": 12,
    "start_time": "2023-10-10T04:35:46.977Z"
   },
   {
    "duration": 17,
    "start_time": "2023-10-10T04:36:06.854Z"
   },
   {
    "duration": 125,
    "start_time": "2023-10-10T04:36:41.755Z"
   },
   {
    "duration": 6,
    "start_time": "2023-10-10T04:36:41.882Z"
   },
   {
    "duration": 34,
    "start_time": "2023-10-10T04:36:41.890Z"
   },
   {
    "duration": 27,
    "start_time": "2023-10-10T04:36:41.925Z"
   },
   {
    "duration": 13,
    "start_time": "2023-10-10T04:36:41.954Z"
   },
   {
    "duration": 119,
    "start_time": "2023-10-10T04:37:00.902Z"
   },
   {
    "duration": 292,
    "start_time": "2023-10-10T04:37:01.022Z"
   },
   {
    "duration": 237,
    "start_time": "2023-10-10T04:37:01.316Z"
   },
   {
    "duration": 44,
    "start_time": "2023-10-10T04:37:01.556Z"
   },
   {
    "duration": 1665,
    "start_time": "2023-10-10T04:37:01.602Z"
   },
   {
    "duration": 140,
    "start_time": "2023-10-10T04:37:22.362Z"
   },
   {
    "duration": 8,
    "start_time": "2023-10-10T04:37:22.504Z"
   },
   {
    "duration": 54,
    "start_time": "2023-10-10T04:37:22.514Z"
   },
   {
    "duration": 47,
    "start_time": "2023-10-10T04:37:22.572Z"
   },
   {
    "duration": 172,
    "start_time": "2023-10-10T04:37:22.621Z"
   },
   {
    "duration": 125,
    "start_time": "2023-10-10T04:37:37.502Z"
   },
   {
    "duration": 7,
    "start_time": "2023-10-10T04:37:37.629Z"
   },
   {
    "duration": 33,
    "start_time": "2023-10-10T04:37:37.637Z"
   },
   {
    "duration": 16,
    "start_time": "2023-10-10T04:37:37.672Z"
   },
   {
    "duration": 7,
    "start_time": "2023-10-10T04:37:37.690Z"
   },
   {
    "duration": 18,
    "start_time": "2023-10-10T04:38:24.431Z"
   },
   {
    "duration": 124,
    "start_time": "2023-10-10T04:38:42.341Z"
   },
   {
    "duration": 8,
    "start_time": "2023-10-10T04:38:42.467Z"
   },
   {
    "duration": 28,
    "start_time": "2023-10-10T04:38:42.477Z"
   },
   {
    "duration": 43,
    "start_time": "2023-10-10T04:38:42.506Z"
   },
   {
    "duration": 8,
    "start_time": "2023-10-10T04:38:42.553Z"
   },
   {
    "duration": 21,
    "start_time": "2023-10-10T04:38:42.563Z"
   },
   {
    "duration": 119,
    "start_time": "2023-10-10T04:38:51.403Z"
   },
   {
    "duration": 7,
    "start_time": "2023-10-10T04:38:51.524Z"
   },
   {
    "duration": 44,
    "start_time": "2023-10-10T04:38:51.532Z"
   },
   {
    "duration": 24,
    "start_time": "2023-10-10T04:38:51.578Z"
   },
   {
    "duration": 29,
    "start_time": "2023-10-10T04:38:51.604Z"
   },
   {
    "duration": 41,
    "start_time": "2023-10-10T04:38:51.635Z"
   },
   {
    "duration": 122,
    "start_time": "2023-10-10T04:38:58.883Z"
   },
   {
    "duration": 8,
    "start_time": "2023-10-10T04:38:59.007Z"
   },
   {
    "duration": 45,
    "start_time": "2023-10-10T04:38:59.017Z"
   },
   {
    "duration": 22,
    "start_time": "2023-10-10T04:38:59.064Z"
   },
   {
    "duration": 131,
    "start_time": "2023-10-10T04:39:00.711Z"
   },
   {
    "duration": 13,
    "start_time": "2023-10-10T04:39:00.845Z"
   },
   {
    "duration": 69,
    "start_time": "2023-10-10T04:39:00.865Z"
   },
   {
    "duration": 184,
    "start_time": "2023-10-10T04:39:00.936Z"
   },
   {
    "duration": 179,
    "start_time": "2023-10-10T04:39:01.123Z"
   },
   {
    "duration": 62,
    "start_time": "2023-10-10T04:39:01.304Z"
   },
   {
    "duration": 13,
    "start_time": "2023-10-10T04:39:16.131Z"
   },
   {
    "duration": 11,
    "start_time": "2023-10-10T04:46:50.529Z"
   },
   {
    "duration": 25,
    "start_time": "2023-10-10T04:47:14.074Z"
   },
   {
    "duration": 136,
    "start_time": "2023-10-10T04:47:36.162Z"
   },
   {
    "duration": 140,
    "start_time": "2023-10-10T04:47:37.824Z"
   },
   {
    "duration": 8,
    "start_time": "2023-10-10T04:47:37.966Z"
   },
   {
    "duration": 16,
    "start_time": "2023-10-10T04:47:37.976Z"
   },
   {
    "duration": 55,
    "start_time": "2023-10-10T04:47:37.994Z"
   },
   {
    "duration": 7,
    "start_time": "2023-10-10T04:47:38.052Z"
   },
   {
    "duration": 20,
    "start_time": "2023-10-10T04:47:38.061Z"
   },
   {
    "duration": 29,
    "start_time": "2023-10-10T04:47:38.083Z"
   },
   {
    "duration": 373,
    "start_time": "2023-10-10T04:47:38.115Z"
   },
   {
    "duration": 447,
    "start_time": "2023-10-10T04:51:58.703Z"
   },
   {
    "duration": 241,
    "start_time": "2023-10-10T04:52:21.194Z"
   },
   {
    "duration": 7,
    "start_time": "2023-10-10T04:52:21.438Z"
   },
   {
    "duration": 37,
    "start_time": "2023-10-10T04:52:21.447Z"
   },
   {
    "duration": 36,
    "start_time": "2023-10-10T04:52:21.486Z"
   },
   {
    "duration": 26,
    "start_time": "2023-10-10T04:52:21.525Z"
   },
   {
    "duration": 50,
    "start_time": "2023-10-10T04:52:21.553Z"
   },
   {
    "duration": 34,
    "start_time": "2023-10-10T04:52:21.605Z"
   },
   {
    "duration": 350,
    "start_time": "2023-10-10T04:52:21.640Z"
   },
   {
    "duration": 360,
    "start_time": "2023-10-10T04:52:21.993Z"
   },
   {
    "duration": 213,
    "start_time": "2023-10-10T04:57:06.842Z"
   },
   {
    "duration": 286,
    "start_time": "2023-10-10T04:57:19.832Z"
   },
   {
    "duration": 113,
    "start_time": "2023-10-10T05:23:17.553Z"
   },
   {
    "duration": 6,
    "start_time": "2023-10-10T05:23:17.668Z"
   },
   {
    "duration": 25,
    "start_time": "2023-10-10T05:23:17.676Z"
   },
   {
    "duration": 12,
    "start_time": "2023-10-10T05:23:17.703Z"
   },
   {
    "duration": 30,
    "start_time": "2023-10-10T05:23:17.717Z"
   },
   {
    "duration": 18,
    "start_time": "2023-10-10T05:23:17.749Z"
   },
   {
    "duration": 29,
    "start_time": "2023-10-10T05:23:17.768Z"
   },
   {
    "duration": 328,
    "start_time": "2023-10-10T05:23:17.798Z"
   },
   {
    "duration": 237,
    "start_time": "2023-10-10T05:23:18.128Z"
   },
   {
    "duration": 239,
    "start_time": "2023-10-10T05:23:18.367Z"
   },
   {
    "duration": 421,
    "start_time": "2023-10-10T05:23:18.608Z"
   },
   {
    "duration": 292,
    "start_time": "2023-10-10T05:26:18.893Z"
   },
   {
    "duration": 282,
    "start_time": "2023-10-10T05:26:34.705Z"
   },
   {
    "duration": 118,
    "start_time": "2023-10-10T05:26:51.123Z"
   },
   {
    "duration": 8,
    "start_time": "2023-10-10T05:26:51.243Z"
   },
   {
    "duration": 25,
    "start_time": "2023-10-10T05:26:51.253Z"
   },
   {
    "duration": 25,
    "start_time": "2023-10-10T05:26:51.279Z"
   },
   {
    "duration": 29,
    "start_time": "2023-10-10T05:26:51.306Z"
   },
   {
    "duration": 38,
    "start_time": "2023-10-10T05:26:51.337Z"
   },
   {
    "duration": 25,
    "start_time": "2023-10-10T05:26:51.377Z"
   },
   {
    "duration": 406,
    "start_time": "2023-10-10T05:26:51.404Z"
   },
   {
    "duration": 253,
    "start_time": "2023-10-10T05:26:51.812Z"
   },
   {
    "duration": 291,
    "start_time": "2023-10-10T05:26:52.067Z"
   },
   {
    "duration": 360,
    "start_time": "2023-10-10T05:26:52.362Z"
   },
   {
    "duration": 301,
    "start_time": "2023-10-10T05:26:52.723Z"
   },
   {
    "duration": 3,
    "start_time": "2023-10-10T05:26:53.026Z"
   },
   {
    "duration": 360,
    "start_time": "2023-10-10T05:27:44.258Z"
   },
   {
    "duration": 428,
    "start_time": "2023-10-10T05:31:28.344Z"
   },
   {
    "duration": 2,
    "start_time": "2023-10-10T05:34:17.581Z"
   },
   {
    "duration": 5,
    "start_time": "2023-10-10T05:34:51.326Z"
   },
   {
    "duration": 191,
    "start_time": "2023-10-10T05:35:28.007Z"
   },
   {
    "duration": 8,
    "start_time": "2023-10-10T05:39:55.465Z"
   },
   {
    "duration": 400,
    "start_time": "2023-10-10T05:49:14.333Z"
   },
   {
    "duration": 576,
    "start_time": "2023-10-10T05:49:44.554Z"
   },
   {
    "duration": 6,
    "start_time": "2023-10-10T05:49:45.133Z"
   },
   {
    "duration": 87,
    "start_time": "2023-10-10T05:49:45.141Z"
   },
   {
    "duration": 14,
    "start_time": "2023-10-10T05:49:45.229Z"
   },
   {
    "duration": 11,
    "start_time": "2023-10-10T05:49:45.245Z"
   },
   {
    "duration": 16,
    "start_time": "2023-10-10T05:49:45.269Z"
   },
   {
    "duration": 15,
    "start_time": "2023-10-10T05:49:45.287Z"
   },
   {
    "duration": 415,
    "start_time": "2023-10-10T05:49:45.304Z"
   },
   {
    "duration": 260,
    "start_time": "2023-10-10T05:49:45.720Z"
   },
   {
    "duration": 264,
    "start_time": "2023-10-10T05:49:45.983Z"
   },
   {
    "duration": 476,
    "start_time": "2023-10-10T05:49:46.249Z"
   },
   {
    "duration": 303,
    "start_time": "2023-10-10T05:49:46.727Z"
   },
   {
    "duration": 353,
    "start_time": "2023-10-10T05:49:47.032Z"
   },
   {
    "duration": 316,
    "start_time": "2023-10-10T05:49:47.388Z"
   },
   {
    "duration": 5,
    "start_time": "2023-10-10T05:49:47.706Z"
   },
   {
    "duration": 203,
    "start_time": "2023-10-10T05:49:47.713Z"
   },
   {
    "duration": 5,
    "start_time": "2023-10-10T05:49:47.918Z"
   },
   {
    "duration": 490,
    "start_time": "2023-10-10T05:49:47.925Z"
   },
   {
    "duration": 94,
    "start_time": "2023-10-10T05:50:32.223Z"
   },
   {
    "duration": 92,
    "start_time": "2023-10-10T05:51:15.373Z"
   },
   {
    "duration": 143,
    "start_time": "2023-10-10T05:52:01.693Z"
   },
   {
    "duration": 14,
    "start_time": "2023-10-10T05:52:07.908Z"
   },
   {
    "duration": 45,
    "start_time": "2023-10-10T05:52:20.513Z"
   },
   {
    "duration": 12,
    "start_time": "2023-10-10T05:52:28.373Z"
   },
   {
    "duration": 3,
    "start_time": "2023-10-10T05:52:59.782Z"
   },
   {
    "duration": 41,
    "start_time": "2023-10-10T05:55:29.734Z"
   },
   {
    "duration": 37,
    "start_time": "2023-10-10T05:55:37.481Z"
   },
   {
    "duration": 17,
    "start_time": "2023-10-10T05:56:41.584Z"
   },
   {
    "duration": 257,
    "start_time": "2023-10-10T05:59:31.793Z"
   },
   {
    "duration": 342,
    "start_time": "2023-10-10T06:00:05.295Z"
   },
   {
    "duration": 272,
    "start_time": "2023-10-10T06:00:13.033Z"
   },
   {
    "duration": 265,
    "start_time": "2023-10-10T06:00:25.661Z"
   },
   {
    "duration": 1435,
    "start_time": "2023-10-11T05:38:50.369Z"
   },
   {
    "duration": 5,
    "start_time": "2023-10-11T05:38:51.805Z"
   },
   {
    "duration": 21,
    "start_time": "2023-10-11T05:38:51.812Z"
   },
   {
    "duration": 25,
    "start_time": "2023-10-11T05:38:51.834Z"
   },
   {
    "duration": 15,
    "start_time": "2023-10-11T05:38:51.861Z"
   },
   {
    "duration": 25,
    "start_time": "2023-10-11T05:38:51.878Z"
   },
   {
    "duration": 26,
    "start_time": "2023-10-11T05:38:51.904Z"
   },
   {
    "duration": 293,
    "start_time": "2023-10-11T05:38:51.932Z"
   },
   {
    "duration": 291,
    "start_time": "2023-10-11T05:38:52.226Z"
   },
   {
    "duration": 222,
    "start_time": "2023-10-11T05:38:52.518Z"
   },
   {
    "duration": 180,
    "start_time": "2023-10-11T05:38:52.741Z"
   },
   {
    "duration": 213,
    "start_time": "2023-10-11T05:38:52.922Z"
   },
   {
    "duration": 187,
    "start_time": "2023-10-11T05:38:53.136Z"
   },
   {
    "duration": 265,
    "start_time": "2023-10-11T05:38:53.326Z"
   },
   {
    "duration": 4,
    "start_time": "2023-10-11T05:38:53.593Z"
   },
   {
    "duration": 185,
    "start_time": "2023-10-11T05:38:53.599Z"
   },
   {
    "duration": 4,
    "start_time": "2023-10-11T05:38:53.785Z"
   },
   {
    "duration": 351,
    "start_time": "2023-10-11T05:38:53.790Z"
   },
   {
    "duration": 20,
    "start_time": "2023-10-11T05:38:54.143Z"
   },
   {
    "duration": 39,
    "start_time": "2023-10-11T05:38:54.164Z"
   },
   {
    "duration": 11,
    "start_time": "2023-10-11T05:38:54.204Z"
   },
   {
    "duration": 10,
    "start_time": "2023-10-11T05:49:34.757Z"
   },
   {
    "duration": 315,
    "start_time": "2023-10-11T05:49:39.977Z"
   },
   {
    "duration": 26,
    "start_time": "2023-10-11T05:49:51.328Z"
   },
   {
    "duration": 12,
    "start_time": "2023-10-11T05:50:00.867Z"
   },
   {
    "duration": 150,
    "start_time": "2023-10-11T06:10:56.024Z"
   },
   {
    "duration": 1434,
    "start_time": "2023-10-11T06:11:08.771Z"
   },
   {
    "duration": 6,
    "start_time": "2023-10-11T06:11:10.206Z"
   },
   {
    "duration": 33,
    "start_time": "2023-10-11T06:11:10.213Z"
   },
   {
    "duration": 11,
    "start_time": "2023-10-11T06:11:10.248Z"
   },
   {
    "duration": 12,
    "start_time": "2023-10-11T06:11:10.261Z"
   },
   {
    "duration": 12,
    "start_time": "2023-10-11T06:11:10.274Z"
   },
   {
    "duration": 27,
    "start_time": "2023-10-11T06:11:10.287Z"
   },
   {
    "duration": 285,
    "start_time": "2023-10-11T06:11:10.315Z"
   },
   {
    "duration": 265,
    "start_time": "2023-10-11T06:11:10.602Z"
   },
   {
    "duration": 188,
    "start_time": "2023-10-11T06:11:10.869Z"
   },
   {
    "duration": 179,
    "start_time": "2023-10-11T06:11:11.059Z"
   },
   {
    "duration": 205,
    "start_time": "2023-10-11T06:11:11.240Z"
   },
   {
    "duration": 187,
    "start_time": "2023-10-11T06:11:11.449Z"
   },
   {
    "duration": 242,
    "start_time": "2023-10-11T06:11:11.638Z"
   },
   {
    "duration": 4,
    "start_time": "2023-10-11T06:11:11.881Z"
   },
   {
    "duration": 163,
    "start_time": "2023-10-11T06:11:11.886Z"
   },
   {
    "duration": 3,
    "start_time": "2023-10-11T06:11:12.051Z"
   },
   {
    "duration": 332,
    "start_time": "2023-10-11T06:11:12.056Z"
   },
   {
    "duration": 10,
    "start_time": "2023-10-11T06:11:12.390Z"
   },
   {
    "duration": 50,
    "start_time": "2023-10-11T06:11:12.401Z"
   },
   {
    "duration": 13,
    "start_time": "2023-10-11T06:11:12.452Z"
   },
   {
    "duration": 1736,
    "start_time": "2023-10-11T09:21:38.746Z"
   },
   {
    "duration": 3,
    "start_time": "2023-10-11T09:21:56.460Z"
   },
   {
    "duration": 132,
    "start_time": "2023-10-11T09:21:56.465Z"
   },
   {
    "duration": 7,
    "start_time": "2023-10-11T09:21:56.599Z"
   },
   {
    "duration": 40,
    "start_time": "2023-10-11T09:21:56.608Z"
   },
   {
    "duration": 13,
    "start_time": "2023-10-11T09:21:56.649Z"
   },
   {
    "duration": 7,
    "start_time": "2023-10-11T09:21:56.664Z"
   },
   {
    "duration": 20,
    "start_time": "2023-10-11T09:21:56.673Z"
   },
   {
    "duration": 16,
    "start_time": "2023-10-11T09:21:56.694Z"
   },
   {
    "duration": 344,
    "start_time": "2023-10-11T09:21:56.712Z"
   },
   {
    "duration": 304,
    "start_time": "2023-10-11T09:21:57.058Z"
   },
   {
    "duration": 213,
    "start_time": "2023-10-11T09:21:57.363Z"
   },
   {
    "duration": 213,
    "start_time": "2023-10-11T09:21:57.579Z"
   },
   {
    "duration": 240,
    "start_time": "2023-10-11T09:21:57.793Z"
   },
   {
    "duration": 211,
    "start_time": "2023-10-11T09:21:58.035Z"
   },
   {
    "duration": 287,
    "start_time": "2023-10-11T09:21:58.247Z"
   },
   {
    "duration": 11,
    "start_time": "2023-10-11T09:21:58.535Z"
   },
   {
    "duration": 166,
    "start_time": "2023-10-11T09:21:58.548Z"
   },
   {
    "duration": 4,
    "start_time": "2023-10-11T09:21:58.716Z"
   },
   {
    "duration": 360,
    "start_time": "2023-10-11T09:21:58.722Z"
   },
   {
    "duration": 12,
    "start_time": "2023-10-11T09:21:59.084Z"
   },
   {
    "duration": 50,
    "start_time": "2023-10-11T09:21:59.098Z"
   },
   {
    "duration": 12,
    "start_time": "2023-10-11T09:21:59.150Z"
   },
   {
    "duration": 197,
    "start_time": "2023-10-11T09:25:33.498Z"
   },
   {
    "duration": 360,
    "start_time": "2023-10-11T09:25:54.011Z"
   },
   {
    "duration": 227,
    "start_time": "2023-10-11T09:25:57.069Z"
   },
   {
    "duration": 182,
    "start_time": "2023-10-11T09:26:09.489Z"
   },
   {
    "duration": 257,
    "start_time": "2023-10-11T09:26:38.437Z"
   },
   {
    "duration": 154,
    "start_time": "2023-10-11T09:28:05.649Z"
   },
   {
    "duration": 199,
    "start_time": "2023-10-11T09:29:26.313Z"
   },
   {
    "duration": 218,
    "start_time": "2023-10-11T09:30:25.249Z"
   },
   {
    "duration": 195,
    "start_time": "2023-10-11T09:30:41.070Z"
   },
   {
    "duration": 373,
    "start_time": "2023-10-11T09:32:46.729Z"
   },
   {
    "duration": 338,
    "start_time": "2023-10-11T09:33:03.325Z"
   },
   {
    "duration": 340,
    "start_time": "2023-10-11T09:33:20.340Z"
   },
   {
    "duration": 157,
    "start_time": "2023-10-11T09:33:41.551Z"
   },
   {
    "duration": 266,
    "start_time": "2023-10-11T09:34:25.419Z"
   },
   {
    "duration": 193,
    "start_time": "2023-10-11T09:34:52.611Z"
   },
   {
    "duration": 3,
    "start_time": "2023-10-11T09:35:23.151Z"
   },
   {
    "duration": 125,
    "start_time": "2023-10-11T09:35:23.156Z"
   },
   {
    "duration": 6,
    "start_time": "2023-10-11T09:35:23.282Z"
   },
   {
    "duration": 19,
    "start_time": "2023-10-11T09:35:23.289Z"
   },
   {
    "duration": 40,
    "start_time": "2023-10-11T09:35:23.310Z"
   },
   {
    "duration": 5,
    "start_time": "2023-10-11T09:35:23.351Z"
   },
   {
    "duration": 32,
    "start_time": "2023-10-11T09:35:23.358Z"
   },
   {
    "duration": 11,
    "start_time": "2023-10-11T09:35:23.392Z"
   },
   {
    "duration": 300,
    "start_time": "2023-10-11T09:35:23.404Z"
   },
   {
    "duration": 206,
    "start_time": "2023-10-11T09:35:23.706Z"
   },
   {
    "duration": 257,
    "start_time": "2023-10-11T09:35:23.914Z"
   },
   {
    "duration": 325,
    "start_time": "2023-10-11T09:35:24.175Z"
   },
   {
    "duration": 232,
    "start_time": "2023-10-11T09:35:24.502Z"
   },
   {
    "duration": 322,
    "start_time": "2023-10-11T09:35:24.735Z"
   },
   {
    "duration": 256,
    "start_time": "2023-10-11T09:35:25.059Z"
   },
   {
    "duration": 4,
    "start_time": "2023-10-11T09:35:25.317Z"
   },
   {
    "duration": 176,
    "start_time": "2023-10-11T09:35:25.323Z"
   },
   {
    "duration": 4,
    "start_time": "2023-10-11T09:35:25.501Z"
   },
   {
    "duration": 369,
    "start_time": "2023-10-11T09:35:25.506Z"
   },
   {
    "duration": 10,
    "start_time": "2023-10-11T09:35:25.877Z"
   },
   {
    "duration": 32,
    "start_time": "2023-10-11T09:35:25.888Z"
   },
   {
    "duration": 34,
    "start_time": "2023-10-11T09:35:25.921Z"
   },
   {
    "duration": 4,
    "start_time": "2023-10-11T09:36:24.834Z"
   },
   {
    "duration": 154,
    "start_time": "2023-10-11T09:36:24.842Z"
   },
   {
    "duration": 7,
    "start_time": "2023-10-11T09:36:24.998Z"
   },
   {
    "duration": 45,
    "start_time": "2023-10-11T09:36:25.006Z"
   },
   {
    "duration": 16,
    "start_time": "2023-10-11T09:36:25.053Z"
   },
   {
    "duration": 12,
    "start_time": "2023-10-11T09:36:25.072Z"
   },
   {
    "duration": 29,
    "start_time": "2023-10-11T09:36:25.086Z"
   },
   {
    "duration": 29,
    "start_time": "2023-10-11T09:36:25.117Z"
   },
   {
    "duration": 328,
    "start_time": "2023-10-11T09:36:25.148Z"
   },
   {
    "duration": 231,
    "start_time": "2023-10-11T09:36:25.478Z"
   },
   {
    "duration": 223,
    "start_time": "2023-10-11T09:36:25.710Z"
   },
   {
    "duration": 427,
    "start_time": "2023-10-11T09:36:25.934Z"
   },
   {
    "duration": 226,
    "start_time": "2023-10-11T09:36:26.363Z"
   },
   {
    "duration": 288,
    "start_time": "2023-10-11T09:36:26.591Z"
   },
   {
    "duration": 262,
    "start_time": "2023-10-11T09:36:26.882Z"
   },
   {
    "duration": 4,
    "start_time": "2023-10-11T09:36:27.146Z"
   },
   {
    "duration": 171,
    "start_time": "2023-10-11T09:36:27.151Z"
   },
   {
    "duration": 5,
    "start_time": "2023-10-11T09:36:27.323Z"
   },
   {
    "duration": 338,
    "start_time": "2023-10-11T09:36:27.344Z"
   },
   {
    "duration": 11,
    "start_time": "2023-10-11T09:36:27.683Z"
   },
   {
    "duration": 49,
    "start_time": "2023-10-11T09:36:27.695Z"
   },
   {
    "duration": 13,
    "start_time": "2023-10-11T09:36:27.746Z"
   },
   {
    "duration": 244,
    "start_time": "2023-10-11T09:36:52.169Z"
   },
   {
    "duration": 295,
    "start_time": "2023-10-11T09:38:01.370Z"
   },
   {
    "duration": 349,
    "start_time": "2023-10-11T09:38:33.635Z"
   },
   {
    "duration": 309,
    "start_time": "2023-10-11T09:41:35.501Z"
   },
   {
    "duration": 225,
    "start_time": "2023-10-11T09:41:54.901Z"
   },
   {
    "duration": 4,
    "start_time": "2023-10-11T09:42:02.256Z"
   },
   {
    "duration": 183,
    "start_time": "2023-10-11T09:42:02.263Z"
   },
   {
    "duration": 7,
    "start_time": "2023-10-11T09:42:02.448Z"
   },
   {
    "duration": 36,
    "start_time": "2023-10-11T09:42:02.459Z"
   },
   {
    "duration": 108,
    "start_time": "2023-10-11T09:42:02.497Z"
   },
   {
    "duration": 123,
    "start_time": "2023-10-11T09:42:02.606Z"
   },
   {
    "duration": 72,
    "start_time": "2023-10-11T09:42:02.730Z"
   },
   {
    "duration": 55,
    "start_time": "2023-10-11T09:42:02.803Z"
   },
   {
    "duration": 309,
    "start_time": "2023-10-11T09:42:02.860Z"
   },
   {
    "duration": 214,
    "start_time": "2023-10-11T09:42:03.171Z"
   },
   {
    "duration": 224,
    "start_time": "2023-10-11T09:42:03.387Z"
   },
   {
    "duration": 427,
    "start_time": "2023-10-11T09:42:03.613Z"
   },
   {
    "duration": 304,
    "start_time": "2023-10-11T09:42:04.046Z"
   },
   {
    "duration": 331,
    "start_time": "2023-10-11T09:42:04.352Z"
   },
   {
    "duration": 260,
    "start_time": "2023-10-11T09:42:04.684Z"
   },
   {
    "duration": 4,
    "start_time": "2023-10-11T09:42:04.946Z"
   },
   {
    "duration": 188,
    "start_time": "2023-10-11T09:42:04.951Z"
   },
   {
    "duration": 5,
    "start_time": "2023-10-11T09:42:05.141Z"
   },
   {
    "duration": 359,
    "start_time": "2023-10-11T09:42:05.148Z"
   },
   {
    "duration": 10,
    "start_time": "2023-10-11T09:42:05.509Z"
   },
   {
    "duration": 46,
    "start_time": "2023-10-11T09:42:05.520Z"
   },
   {
    "duration": 12,
    "start_time": "2023-10-11T09:42:05.568Z"
   },
   {
    "duration": 210,
    "start_time": "2023-10-11T09:42:42.381Z"
   },
   {
    "duration": 260,
    "start_time": "2023-10-11T09:43:22.870Z"
   },
   {
    "duration": 352,
    "start_time": "2023-10-11T09:43:54.131Z"
   },
   {
    "duration": 265,
    "start_time": "2023-10-11T09:44:15.895Z"
   },
   {
    "duration": 171,
    "start_time": "2023-10-11T09:44:34.599Z"
   },
   {
    "duration": 34,
    "start_time": "2023-10-11T09:45:23.028Z"
   },
   {
    "duration": 33,
    "start_time": "2023-10-11T09:46:00.368Z"
   },
   {
    "duration": 33,
    "start_time": "2023-10-11T09:46:11.349Z"
   },
   {
    "duration": 35,
    "start_time": "2023-10-11T09:46:15.200Z"
   },
   {
    "duration": 97,
    "start_time": "2023-10-11T09:47:37.331Z"
   },
   {
    "duration": 3,
    "start_time": "2023-10-11T09:49:38.468Z"
   },
   {
    "duration": 127,
    "start_time": "2023-10-11T09:49:38.473Z"
   },
   {
    "duration": 5,
    "start_time": "2023-10-11T09:49:38.602Z"
   },
   {
    "duration": 48,
    "start_time": "2023-10-11T09:49:38.608Z"
   },
   {
    "duration": 54,
    "start_time": "2023-10-11T09:49:38.658Z"
   },
   {
    "duration": 45,
    "start_time": "2023-10-11T09:49:38.713Z"
   },
   {
    "duration": 41,
    "start_time": "2023-10-11T09:49:38.759Z"
   },
   {
    "duration": 47,
    "start_time": "2023-10-11T09:49:38.802Z"
   },
   {
    "duration": 321,
    "start_time": "2023-10-11T09:49:38.851Z"
   },
   {
    "duration": 225,
    "start_time": "2023-10-11T09:49:39.173Z"
   },
   {
    "duration": 229,
    "start_time": "2023-10-11T09:49:39.399Z"
   },
   {
    "duration": 430,
    "start_time": "2023-10-11T09:49:39.630Z"
   },
   {
    "duration": 238,
    "start_time": "2023-10-11T09:49:40.062Z"
   },
   {
    "duration": 313,
    "start_time": "2023-10-11T09:49:40.302Z"
   },
   {
    "duration": 265,
    "start_time": "2023-10-11T09:49:40.617Z"
   },
   {
    "duration": 5,
    "start_time": "2023-10-11T09:49:40.884Z"
   },
   {
    "duration": 220,
    "start_time": "2023-10-11T09:49:40.891Z"
   },
   {
    "duration": 4,
    "start_time": "2023-10-11T09:49:41.113Z"
   },
   {
    "duration": 363,
    "start_time": "2023-10-11T09:49:41.118Z"
   },
   {
    "duration": 10,
    "start_time": "2023-10-11T09:49:41.483Z"
   },
   {
    "duration": 43,
    "start_time": "2023-10-11T09:49:41.494Z"
   },
   {
    "duration": 14,
    "start_time": "2023-10-11T09:49:41.545Z"
   },
   {
    "duration": 101,
    "start_time": "2023-10-11T09:54:57.126Z"
   },
   {
    "duration": 14,
    "start_time": "2023-10-11T09:55:22.305Z"
   },
   {
    "duration": 12,
    "start_time": "2023-10-11T09:55:37.376Z"
   },
   {
    "duration": 15,
    "start_time": "2023-10-11T09:55:53.065Z"
   },
   {
    "duration": 423,
    "start_time": "2023-10-11T09:56:58.784Z"
   },
   {
    "duration": 16,
    "start_time": "2023-10-11T09:57:50.770Z"
   },
   {
    "duration": 4,
    "start_time": "2023-10-11T09:57:55.227Z"
   },
   {
    "duration": 164,
    "start_time": "2023-10-11T09:57:55.234Z"
   },
   {
    "duration": 7,
    "start_time": "2023-10-11T09:57:55.399Z"
   },
   {
    "duration": 38,
    "start_time": "2023-10-11T09:57:55.407Z"
   },
   {
    "duration": 20,
    "start_time": "2023-10-11T09:57:55.447Z"
   },
   {
    "duration": 16,
    "start_time": "2023-10-11T09:57:55.469Z"
   },
   {
    "duration": 33,
    "start_time": "2023-10-11T09:57:55.487Z"
   },
   {
    "duration": 46,
    "start_time": "2023-10-11T09:57:55.522Z"
   },
   {
    "duration": 322,
    "start_time": "2023-10-11T09:57:55.571Z"
   },
   {
    "duration": 245,
    "start_time": "2023-10-11T09:57:55.895Z"
   },
   {
    "duration": 257,
    "start_time": "2023-10-11T09:57:56.146Z"
   },
   {
    "duration": 387,
    "start_time": "2023-10-11T09:57:56.404Z"
   },
   {
    "duration": 243,
    "start_time": "2023-10-11T09:57:56.793Z"
   },
   {
    "duration": 370,
    "start_time": "2023-10-11T09:57:57.038Z"
   },
   {
    "duration": 285,
    "start_time": "2023-10-11T09:57:57.410Z"
   },
   {
    "duration": 5,
    "start_time": "2023-10-11T09:57:57.697Z"
   },
   {
    "duration": 201,
    "start_time": "2023-10-11T09:57:57.703Z"
   },
   {
    "duration": 4,
    "start_time": "2023-10-11T09:57:57.905Z"
   },
   {
    "duration": 510,
    "start_time": "2023-10-11T09:57:57.911Z"
   },
   {
    "duration": 24,
    "start_time": "2023-10-11T09:57:58.423Z"
   },
   {
    "duration": 36,
    "start_time": "2023-10-11T09:57:58.449Z"
   },
   {
    "duration": 18,
    "start_time": "2023-10-11T09:57:58.487Z"
   },
   {
    "duration": 10,
    "start_time": "2023-10-11T09:58:38.604Z"
   },
   {
    "duration": 32,
    "start_time": "2023-10-11T09:58:56.225Z"
   },
   {
    "duration": 11,
    "start_time": "2023-10-11T09:59:12.344Z"
   },
   {
    "duration": 337,
    "start_time": "2023-10-11T09:59:20.548Z"
   },
   {
    "duration": 3,
    "start_time": "2023-10-11T10:29:33.476Z"
   },
   {
    "duration": 137,
    "start_time": "2023-10-11T10:29:33.481Z"
   },
   {
    "duration": 6,
    "start_time": "2023-10-11T10:29:33.619Z"
   },
   {
    "duration": 32,
    "start_time": "2023-10-11T10:29:33.626Z"
   },
   {
    "duration": 30,
    "start_time": "2023-10-11T10:29:33.660Z"
   },
   {
    "duration": 28,
    "start_time": "2023-10-11T10:29:33.692Z"
   },
   {
    "duration": 24,
    "start_time": "2023-10-11T10:29:33.722Z"
   },
   {
    "duration": 45,
    "start_time": "2023-10-11T10:29:33.748Z"
   },
   {
    "duration": 346,
    "start_time": "2023-10-11T10:29:33.794Z"
   },
   {
    "duration": 285,
    "start_time": "2023-10-11T10:29:34.144Z"
   },
   {
    "duration": 229,
    "start_time": "2023-10-11T10:29:34.431Z"
   },
   {
    "duration": 300,
    "start_time": "2023-10-11T10:29:34.662Z"
   },
   {
    "duration": 259,
    "start_time": "2023-10-11T10:29:34.964Z"
   },
   {
    "duration": 359,
    "start_time": "2023-10-11T10:29:35.225Z"
   },
   {
    "duration": 346,
    "start_time": "2023-10-11T10:29:35.586Z"
   },
   {
    "duration": 10,
    "start_time": "2023-10-11T10:29:35.934Z"
   },
   {
    "duration": 187,
    "start_time": "2023-10-11T10:29:35.947Z"
   },
   {
    "duration": 10,
    "start_time": "2023-10-11T10:29:36.137Z"
   },
   {
    "duration": 399,
    "start_time": "2023-10-11T10:29:36.149Z"
   },
   {
    "duration": 10,
    "start_time": "2023-10-11T10:29:36.550Z"
   },
   {
    "duration": 66,
    "start_time": "2023-10-11T10:29:36.561Z"
   },
   {
    "duration": 17,
    "start_time": "2023-10-11T10:29:36.630Z"
   },
   {
    "duration": 351,
    "start_time": "2023-10-11T10:30:11.415Z"
   },
   {
    "duration": 341,
    "start_time": "2023-10-11T10:33:03.224Z"
   },
   {
    "duration": 4,
    "start_time": "2023-10-11T10:33:43.706Z"
   },
   {
    "duration": 13,
    "start_time": "2023-10-11T10:33:50.005Z"
   },
   {
    "duration": 11,
    "start_time": "2023-10-11T10:34:04.315Z"
   },
   {
    "duration": 346,
    "start_time": "2023-10-11T10:34:33.356Z"
   },
   {
    "duration": 11,
    "start_time": "2023-10-11T10:34:43.966Z"
   },
   {
    "duration": 10,
    "start_time": "2023-10-11T10:35:44.186Z"
   },
   {
    "duration": 34,
    "start_time": "2023-10-11T10:35:48.416Z"
   },
   {
    "duration": 14,
    "start_time": "2023-10-11T10:36:24.504Z"
   },
   {
    "duration": 13,
    "start_time": "2023-10-11T10:37:28.765Z"
   },
   {
    "duration": 15,
    "start_time": "2023-10-11T10:37:44.295Z"
   },
   {
    "duration": 13,
    "start_time": "2023-10-11T10:37:50.195Z"
   },
   {
    "duration": 144,
    "start_time": "2023-10-11T10:39:09.905Z"
   },
   {
    "duration": 3,
    "start_time": "2023-10-11T10:41:40.582Z"
   },
   {
    "duration": 116,
    "start_time": "2023-10-11T10:41:40.587Z"
   },
   {
    "duration": 5,
    "start_time": "2023-10-11T10:41:40.705Z"
   },
   {
    "duration": 16,
    "start_time": "2023-10-11T10:41:40.712Z"
   },
   {
    "duration": 22,
    "start_time": "2023-10-11T10:41:40.730Z"
   },
   {
    "duration": 5,
    "start_time": "2023-10-11T10:41:40.753Z"
   },
   {
    "duration": 15,
    "start_time": "2023-10-11T10:41:40.759Z"
   },
   {
    "duration": 14,
    "start_time": "2023-10-11T10:41:40.776Z"
   },
   {
    "duration": 312,
    "start_time": "2023-10-11T10:41:40.792Z"
   },
   {
    "duration": 220,
    "start_time": "2023-10-11T10:41:41.106Z"
   },
   {
    "duration": 215,
    "start_time": "2023-10-11T10:41:41.328Z"
   },
   {
    "duration": 314,
    "start_time": "2023-10-11T10:41:41.546Z"
   },
   {
    "duration": 239,
    "start_time": "2023-10-11T10:41:41.862Z"
   },
   {
    "duration": 421,
    "start_time": "2023-10-11T10:41:42.102Z"
   },
   {
    "duration": 268,
    "start_time": "2023-10-11T10:41:42.525Z"
   },
   {
    "duration": 3,
    "start_time": "2023-10-11T10:41:42.795Z"
   },
   {
    "duration": 177,
    "start_time": "2023-10-11T10:41:42.800Z"
   },
   {
    "duration": 4,
    "start_time": "2023-10-11T10:41:42.978Z"
   },
   {
    "duration": 356,
    "start_time": "2023-10-11T10:41:42.984Z"
   },
   {
    "duration": 11,
    "start_time": "2023-10-11T10:41:43.344Z"
   },
   {
    "duration": 49,
    "start_time": "2023-10-11T10:41:43.356Z"
   },
   {
    "duration": 33,
    "start_time": "2023-10-11T10:41:43.407Z"
   },
   {
    "duration": 3,
    "start_time": "2023-10-11T10:43:47.383Z"
   },
   {
    "duration": 128,
    "start_time": "2023-10-11T10:43:47.388Z"
   },
   {
    "duration": 5,
    "start_time": "2023-10-11T10:43:47.518Z"
   },
   {
    "duration": 37,
    "start_time": "2023-10-11T10:43:47.524Z"
   },
   {
    "duration": 15,
    "start_time": "2023-10-11T10:43:47.563Z"
   },
   {
    "duration": 41,
    "start_time": "2023-10-11T10:43:47.580Z"
   },
   {
    "duration": 51,
    "start_time": "2023-10-11T10:43:47.623Z"
   },
   {
    "duration": 51,
    "start_time": "2023-10-11T10:43:47.676Z"
   },
   {
    "duration": 346,
    "start_time": "2023-10-11T10:43:47.728Z"
   },
   {
    "duration": 216,
    "start_time": "2023-10-11T10:43:48.075Z"
   },
   {
    "duration": 214,
    "start_time": "2023-10-11T10:43:48.293Z"
   },
   {
    "duration": 307,
    "start_time": "2023-10-11T10:43:48.509Z"
   },
   {
    "duration": 227,
    "start_time": "2023-10-11T10:43:48.818Z"
   },
   {
    "duration": 319,
    "start_time": "2023-10-11T10:43:49.046Z"
   },
   {
    "duration": 257,
    "start_time": "2023-10-11T10:43:49.366Z"
   },
   {
    "duration": 5,
    "start_time": "2023-10-11T10:43:49.624Z"
   },
   {
    "duration": 190,
    "start_time": "2023-10-11T10:43:49.630Z"
   },
   {
    "duration": 4,
    "start_time": "2023-10-11T10:43:49.821Z"
   },
   {
    "duration": 366,
    "start_time": "2023-10-11T10:43:49.827Z"
   },
   {
    "duration": 11,
    "start_time": "2023-10-11T10:43:50.194Z"
   },
   {
    "duration": 127,
    "start_time": "2023-10-11T10:43:50.206Z"
   },
   {
    "duration": 34,
    "start_time": "2023-10-11T10:43:50.334Z"
   },
   {
    "duration": 14,
    "start_time": "2023-10-11T10:45:21.124Z"
   },
   {
    "duration": 16,
    "start_time": "2023-10-11T10:55:43.427Z"
   },
   {
    "duration": 1327,
    "start_time": "2023-10-11T11:08:07.863Z"
   },
   {
    "duration": 285,
    "start_time": "2023-10-11T11:08:09.192Z"
   },
   {
    "duration": 6,
    "start_time": "2023-10-11T11:08:09.479Z"
   },
   {
    "duration": 39,
    "start_time": "2023-10-11T11:08:09.488Z"
   },
   {
    "duration": 47,
    "start_time": "2023-10-11T11:08:09.529Z"
   },
   {
    "duration": 31,
    "start_time": "2023-10-11T11:08:09.578Z"
   },
   {
    "duration": 37,
    "start_time": "2023-10-11T11:08:09.611Z"
   },
   {
    "duration": 40,
    "start_time": "2023-10-11T11:08:09.649Z"
   },
   {
    "duration": 322,
    "start_time": "2023-10-11T11:08:09.690Z"
   },
   {
    "duration": 319,
    "start_time": "2023-10-11T11:08:10.014Z"
   },
   {
    "duration": 233,
    "start_time": "2023-10-11T11:08:10.335Z"
   },
   {
    "duration": 318,
    "start_time": "2023-10-11T11:08:10.569Z"
   },
   {
    "duration": 233,
    "start_time": "2023-10-11T11:08:10.889Z"
   },
   {
    "duration": 360,
    "start_time": "2023-10-11T11:08:11.123Z"
   },
   {
    "duration": 281,
    "start_time": "2023-10-11T11:08:11.485Z"
   },
   {
    "duration": 4,
    "start_time": "2023-10-11T11:08:11.768Z"
   },
   {
    "duration": 181,
    "start_time": "2023-10-11T11:08:11.773Z"
   },
   {
    "duration": 7,
    "start_time": "2023-10-11T11:08:11.956Z"
   },
   {
    "duration": 362,
    "start_time": "2023-10-11T11:08:11.964Z"
   },
   {
    "duration": 10,
    "start_time": "2023-10-11T11:08:12.328Z"
   },
   {
    "duration": 56,
    "start_time": "2023-10-11T11:08:12.339Z"
   },
   {
    "duration": 12,
    "start_time": "2023-10-11T11:08:12.397Z"
   },
   {
    "duration": 36,
    "start_time": "2023-10-11T11:57:07.279Z"
   },
   {
    "duration": 333,
    "start_time": "2023-10-11T11:58:54.649Z"
   },
   {
    "duration": 347,
    "start_time": "2023-10-11T11:59:00.133Z"
   },
   {
    "duration": 319,
    "start_time": "2023-10-11T11:59:12.171Z"
   },
   {
    "duration": 527,
    "start_time": "2023-10-11T11:59:33.741Z"
   },
   {
    "duration": 287,
    "start_time": "2023-10-11T12:00:01.595Z"
   },
   {
    "duration": 236,
    "start_time": "2023-10-11T12:00:26.064Z"
   },
   {
    "duration": 250,
    "start_time": "2023-10-11T12:00:56.036Z"
   },
   {
    "duration": 239,
    "start_time": "2023-10-11T12:01:09.602Z"
   },
   {
    "duration": 107,
    "start_time": "2023-10-11T12:02:19.611Z"
   }
  ],
  "kernelspec": {
   "display_name": "Python 3 (ipykernel)",
   "language": "python",
   "name": "python3"
  },
  "language_info": {
   "codemirror_mode": {
    "name": "ipython",
    "version": 3
   },
   "file_extension": ".py",
   "mimetype": "text/x-python",
   "name": "python",
   "nbconvert_exporter": "python",
   "pygments_lexer": "ipython3",
   "version": "3.11.5"
  },
  "toc": {
   "base_numbering": 1,
   "nav_menu": {},
   "number_sections": true,
   "sideBar": true,
   "skip_h1_title": true,
   "title_cell": "Table of Contents",
   "title_sidebar": "Contents",
   "toc_cell": false,
   "toc_position": {},
   "toc_section_display": true,
   "toc_window_display": false
  }
 },
 "nbformat": 4,
 "nbformat_minor": 2
}
